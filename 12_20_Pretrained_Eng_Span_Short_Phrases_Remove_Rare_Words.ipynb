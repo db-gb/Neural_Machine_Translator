{
  "nbformat": 4,
  "nbformat_minor": 0,
  "metadata": {
    "colab": {
      "name": "12/20 Pretrained - Eng_Span_Short Phrases - Remove Rare Words.ipynb",
      "provenance": [],
      "collapsed_sections": [],
      "machine_shape": "hm"
    },
    "kernelspec": {
      "name": "python3",
      "display_name": "Python 3"
    },
    "accelerator": "GPU"
  },
  "cells": [
    {
      "cell_type": "code",
      "metadata": {
        "id": "aG4KM2SHnhta",
        "colab_type": "code",
        "outputId": "29bb6403-670d-41b6-ae38-3c2d26a52cbd",
        "colab": {
          "base_uri": "https://localhost:8080/",
          "height": 34
        }
      },
      "source": [
        "from google.colab import drive\n",
        "drive.mount('/content/drive')"
      ],
      "execution_count": 0,
      "outputs": [
        {
          "output_type": "stream",
          "text": [
            "Drive already mounted at /content/drive; to attempt to forcibly remount, call drive.mount(\"/content/drive\", force_remount=True).\n"
          ],
          "name": "stdout"
        }
      ]
    },
    {
      "cell_type": "code",
      "metadata": {
        "id": "LTA8INoynp0z",
        "colab_type": "code",
        "colab": {}
      },
      "source": [
        "# Path of English-Spanish aligned sentences\n",
        "data_path = \"/content/drive/My Drive/Spanish_Bible_Translation/spa.txt\"\n",
        "\n",
        "# There are over 120000 samples. To conserve memory, we will randomly sample 30,000 out of the first 50,000\n",
        "num_samples = 70000\n",
        "lines_to_consider = 80000"
      ],
      "execution_count": 0,
      "outputs": []
    },
    {
      "cell_type": "code",
      "metadata": {
        "id": "wSYMM8bwnvLA",
        "colab_type": "code",
        "outputId": "c4c00661-b20a-47f9-c83f-7d77a6e34d2a",
        "colab": {
          "base_uri": "https://localhost:8080/",
          "height": 34
        }
      },
      "source": [
        "# Read the file\n",
        "with open(data_path, 'r', encoding='utf-8') as p:\n",
        "  lines = p.read().split('\\n')\n",
        "\n",
        "  print(len(lines))"
      ],
      "execution_count": 0,
      "outputs": [
        {
          "output_type": "stream",
          "text": [
            "122937\n"
          ],
          "name": "stdout"
        }
      ]
    },
    {
      "cell_type": "markdown",
      "metadata": {
        "id": "vb_sPpoXxAo1",
        "colab_type": "text"
      },
      "source": [
        "## Text Preprocessing\n",
        "Now that we've read the lines from the file, we will need to perform all the necessary preprocessing steps. In this case, we will convert the sentences to all lower-case and remove and special characters. "
      ]
    },
    {
      "cell_type": "code",
      "metadata": {
        "id": "8bfQI-xenzlv",
        "colab_type": "code",
        "colab": {}
      },
      "source": [
        "# Borrowed from \n",
        "# https://github.com/dipanjanS/practical-machine-learning-with-python/blob/master/bonus%20content/feature%20engineering%20text%20data/Feature%20Engineering%20Text%20Data%20-%20Traditional%20Strategies.ipynb\n",
        "import nltk\n",
        "import re\n",
        "import numpy as np\n",
        "\n",
        "wpt = nltk.WordPunctTokenizer()\n",
        "\n",
        "def normalize_document(doc):\n",
        "    # lower case and remove special characters\\whitespaces\n",
        "    doc = re.sub(\"[^\\w\\s]\", \"\", doc);\n",
        "\n",
        "    doc = doc.lower()\n",
        "    doc = doc.strip()\n",
        "    # tokenize document\n",
        "    tokens = wpt.tokenize(doc)\n",
        "\n",
        "    # re-create document from filtered tokens\n",
        "    doc = ' '.join(tokens)\n",
        "    return doc"
      ],
      "execution_count": 0,
      "outputs": []
    },
    {
      "cell_type": "markdown",
      "metadata": {
        "id": "iDz_BVGVx05u",
        "colab_type": "text"
      },
      "source": [
        "Looking through the training data, we see that the sentences start out short and tend to get longer as we proceed through the file. To remedy this, we randomize the selection of sentences that we will train our model on. This will make sure our model is validated on a similar set of sentences to the training data."
      ]
    },
    {
      "cell_type": "code",
      "metadata": {
        "id": "kCcU3Vg2n7Qo",
        "colab_type": "code",
        "colab": {}
      },
      "source": [
        "# Because the translated sentences seem to get longer as we proceed through the file,\n",
        "# we will randomize our selection of the sentences. \n",
        "import random\n",
        "\n",
        "# Store each of the English and Spanish language statements in two arrays\n",
        "eng_sents = []\n",
        "span_sents = []\n",
        "\n",
        "# Select a random set of indices out of the first 50.000 sentences. \n",
        "random_idx = random.sample(range(0, lines_to_consider-1), num_samples)\n",
        "\n",
        "# Grab the randomized lines\n",
        "lines_randomized = []\n",
        "for idx in random_idx:\n",
        "  lines_randomized.append(lines[idx])\n",
        "\n",
        "# Split the lines into English and Spanish equivalents\n",
        "for line in lines_randomized:\n",
        "  eng, span, _ = line.split('\\t')\n",
        "\n",
        "\n",
        "  eng_sents.append(normalize_document(eng))\n",
        "  # Add start and stop tokens to target language phrases \n",
        "  span_sents.append('START_ ' + normalize_document(span) + ' _END')"
      ],
      "execution_count": 0,
      "outputs": []
    },
    {
      "cell_type": "code",
      "metadata": {
        "id": "pV8GJDv0oMtY",
        "colab_type": "code",
        "colab": {}
      },
      "source": [
        "import os\n",
        "import tqdm\n",
        "import numpy as np\n",
        "import gensim\n",
        "\n",
        "from collections import defaultdict"
      ],
      "execution_count": 0,
      "outputs": []
    },
    {
      "cell_type": "markdown",
      "metadata": {
        "id": "Qy39jlIN5LP_",
        "colab_type": "text"
      },
      "source": [
        "Now we create a set containing all English words in the corpus. It's a good idea to see how long the longest sentence is, and the average length of all the sentences. This will help us establish how long we want our input sequences to be. "
      ]
    },
    {
      "cell_type": "code",
      "metadata": {
        "id": "M9mZQ3yDlw3W",
        "colab_type": "code",
        "colab": {}
      },
      "source": [
        "# We create a set to make sure every word is stored only once\n",
        "eng_words = set()\n",
        "\n",
        "for sent in eng_sents:\n",
        "  for word in sent.split():\n",
        "    eng_words.add(word)"
      ],
      "execution_count": 0,
      "outputs": []
    },
    {
      "cell_type": "code",
      "metadata": {
        "id": "jY353CV_BCyq",
        "colab_type": "code",
        "colab": {}
      },
      "source": [
        "# list of all sentence lengths\n",
        "eng_sent_lens = [len(sent.split()) for sent in eng_sents]"
      ],
      "execution_count": 0,
      "outputs": []
    },
    {
      "cell_type": "code",
      "metadata": {
        "id": "nC4ksSMa6oij",
        "colab_type": "code",
        "outputId": "9e87069a-1142-4fbc-d8b3-d4cad0fabb08",
        "colab": {
          "base_uri": "https://localhost:8080/",
          "height": 68
        }
      },
      "source": [
        "print(\"Number of unique English words: \", len(eng_words))\n",
        "print(\"Average English sentence length: \", np.mean(eng_sent_lens))\n",
        "print(\"Longest English sentence length: \", np.max(eng_sent_lens))"
      ],
      "execution_count": 0,
      "outputs": [
        {
          "output_type": "stream",
          "text": [
            "Number of unique English words:  9002\n",
            "Average English sentence length:  4.922657142857143\n",
            "Longest English sentence length:  10\n"
          ],
          "name": "stdout"
        }
      ]
    },
    {
      "cell_type": "code",
      "metadata": {
        "id": "GdxgKMO89-p0",
        "colab_type": "code",
        "outputId": "d5a52577-8dfc-4101-df08-1e36dbb30132",
        "colab": {
          "base_uri": "https://localhost:8080/",
          "height": 297
        }
      },
      "source": [
        "import matplotlib.pyplot as plt\n",
        "\n",
        "fig, ax1 = plt.subplots(figsize=(7, 4))\n",
        "\n",
        "# fixed bin size\n",
        "bins = np.arange(0, max(eng_sent_lens)+1, 1) # fixed bin size\n",
        "\n",
        "color = 'tab:blue'\n",
        "ax1.set_xlabel('# of Words')\n",
        "ax1.set_ylabel('Sentence Count')\n",
        "ax1.set_xlim([min(eng_sent_lens)-1, max(eng_sent_lens)+1])\n",
        "ax1.hist(eng_sent_lens, bins=bins, alpha=0.5, color=color)\n",
        "plt.title(\"Distribution of English Sentence Lengths\")\n",
        "\n",
        "\n",
        "fig.tight_layout()  # otherwise the right y-label is slightly clipped\n",
        "plt.show()"
      ],
      "execution_count": 0,
      "outputs": [
        {
          "output_type": "display_data",
          "data": {
            "image/png": "[encoded data removed]",
            "text/plain": [
              "<Figure size 504x288 with 1 Axes>"
            ]
          },
          "metadata": {
            "tags": []
          }
        }
      ]
    },
    {
      "cell_type": "code",
      "metadata": {
        "id": "MiPGFFV3CYEZ",
        "colab_type": "code",
        "outputId": "217487b2-c7d6-4d3f-f722-9c0763c611db",
        "colab": {
          "base_uri": "https://localhost:8080/",
          "height": 187
        }
      },
      "source": [
        "unique, counts = np.unique(eng_sent_lens, return_counts=True)\n",
        "dict(zip(unique, counts))"
      ],
      "execution_count": 0,
      "outputs": [
        {
          "output_type": "execute_result",
          "data": {
            "text/plain": [
              "{1: 53,\n",
              " 2: 2572,\n",
              " 3: 8645,\n",
              " 4: 15956,\n",
              " 5: 18300,\n",
              " 6: 15101,\n",
              " 7: 7571,\n",
              " 8: 1695,\n",
              " 9: 103,\n",
              " 10: 4}"
            ]
          },
          "metadata": {
            "tags": []
          },
          "execution_count": 11
        }
      ]
    },
    {
      "cell_type": "code",
      "metadata": {
        "id": "h5EJp6ZQkNWc",
        "colab_type": "code",
        "colab": {}
      },
      "source": [
        "eng_word_cnts = dict()\n",
        "\n",
        "for sent in eng_sents:\n",
        "  for wrd in sent.split(\" \"):\n",
        "    if wrd in eng_word_cnts:\n",
        "      eng_word_cnts[wrd] += 1\n",
        "    else:\n",
        "      eng_word_cnts[wrd] = 1"
      ],
      "execution_count": 0,
      "outputs": []
    },
    {
      "cell_type": "code",
      "metadata": {
        "id": "O8iBhvc-kqpJ",
        "colab_type": "code",
        "colab": {}
      },
      "source": [
        "eng_word_cnts_array = [eng_word_cnts[wrd] for wrd in eng_word_cnts]"
      ],
      "execution_count": 0,
      "outputs": []
    },
    {
      "cell_type": "code",
      "metadata": {
        "id": "Gty1-eaxsORt",
        "colab_type": "code",
        "colab": {}
      },
      "source": [
        "eng_wrds = [wrd for wrd in eng_word_cnts if eng_word_cnts[wrd] > 2]"
      ],
      "execution_count": 0,
      "outputs": []
    },
    {
      "cell_type": "code",
      "metadata": {
        "id": "o8V1kxYy5W_I",
        "colab_type": "code",
        "colab": {}
      },
      "source": [
        "eng_wrds.append('_UNK_')"
      ],
      "execution_count": 0,
      "outputs": []
    },
    {
      "cell_type": "code",
      "metadata": {
        "id": "aU62Az3nwngQ",
        "colab_type": "code",
        "outputId": "4516ed20-5ab0-4bc7-f231-473a65849a3a",
        "colab": {
          "base_uri": "https://localhost:8080/",
          "height": 34
        }
      },
      "source": [
        "len(eng_wrds)"
      ],
      "execution_count": 0,
      "outputs": [
        {
          "output_type": "execute_result",
          "data": {
            "text/plain": [
              "4587"
            ]
          },
          "metadata": {
            "tags": []
          },
          "execution_count": 16
        }
      ]
    },
    {
      "cell_type": "code",
      "metadata": {
        "id": "tPkO-h6_lNBX",
        "colab_type": "code",
        "outputId": "e77f460d-08cd-4532-ac90-71d222a9df6f",
        "colab": {
          "base_uri": "https://localhost:8080/",
          "height": 297
        }
      },
      "source": [
        "import matplotlib.pyplot as plt\n",
        "\n",
        "fig, ax1 = plt.subplots(figsize=(7, 4))\n",
        "\n",
        "# fixed bin size\n",
        "bins = np.arange(0, max(eng_word_cnts_array)+1, 100) # fixed bin size\n",
        "\n",
        "color = 'tab:blue'\n",
        "ax1.set_xlabel('# of Words')\n",
        "ax1.set_ylabel('Sentence Count')\n",
        "ax1.set_xlim([min(eng_word_cnts_array)-1, max(eng_word_cnts_array)+1])\n",
        "ax1.hist(eng_word_cnts_array, bins=bins, alpha=0.5, color=color)\n",
        "plt.title(\"Distribution of English Sentence Lengths\")\n",
        "\n",
        "\n",
        "fig.tight_layout()  # otherwise the right y-label is slightly clipped\n",
        "plt.show()"
      ],
      "execution_count": 0,
      "outputs": [
        {
          "output_type": "display_data",
          "data": {
            "image/png": "[encoded data removed]",
            "text/plain": [
              "<Figure size 504x288 with 1 Axes>"
            ]
          },
          "metadata": {
            "tags": []
          }
        }
      ]
    },
    {
      "cell_type": "markdown",
      "metadata": {
        "id": "UNFinvsYBzT6",
        "colab_type": "text"
      },
      "source": [
        "Visually, we see the sentence lengths seem to follow a normal distribution with a slight skew to the left. For our purposes, setting the input sequence length to 6 should contain over 99% of our sentences while saving RAM when creating the input arrays later on."
      ]
    },
    {
      "cell_type": "code",
      "metadata": {
        "id": "xDJphZJAFfGi",
        "colab_type": "code",
        "colab": {}
      },
      "source": [
        "input_seq_len = 8"
      ],
      "execution_count": 0,
      "outputs": []
    },
    {
      "cell_type": "markdown",
      "metadata": {
        "id": "L8Ck-McQ7FQW",
        "colab_type": "text"
      },
      "source": [
        "Same exercise for the output language:"
      ]
    },
    {
      "cell_type": "code",
      "metadata": {
        "id": "WZkJzDkQl04M",
        "colab_type": "code",
        "colab": {}
      },
      "source": [
        "# We create a set to make sure every word is stored only once\n",
        "span_words = set()\n",
        "\n",
        "for sent in span_sents:\n",
        "  for word in sent.split():\n",
        "    span_words.add(word)"
      ],
      "execution_count": 0,
      "outputs": []
    },
    {
      "cell_type": "code",
      "metadata": {
        "id": "RRza_aSFD5gY",
        "colab_type": "code",
        "colab": {}
      },
      "source": [
        "# list of all Spanish sentence lengths\n",
        "span_sent_lens = [len(sent.split()) for sent in span_sents]"
      ],
      "execution_count": 0,
      "outputs": []
    },
    {
      "cell_type": "code",
      "metadata": {
        "id": "JSBXsxo6rfGG",
        "colab_type": "code",
        "outputId": "fa605e3c-0ab0-4d3e-ef00-a4708b9b1d30",
        "colab": {
          "base_uri": "https://localhost:8080/",
          "height": 68
        }
      },
      "source": [
        "print(\"Number of unique Spanish words: \", len(span_words))\n",
        "print(\"Average Spanish sentence length: \", np.mean(span_sent_lens))\n",
        "print(\"Longest Spanish sentence length: \", max(span_sent_lens))"
      ],
      "execution_count": 0,
      "outputs": [
        {
          "output_type": "stream",
          "text": [
            "Number of unique Spanish words:  17264\n",
            "Average Spanish sentence length:  6.720285714285715\n",
            "Longest Spanish sentence length:  17\n"
          ],
          "name": "stdout"
        }
      ]
    },
    {
      "cell_type": "code",
      "metadata": {
        "id": "hMdVhAgb78T1",
        "colab_type": "code",
        "outputId": "e67e3017-9d7d-401a-9186-6c5561c70afe",
        "colab": {
          "base_uri": "https://localhost:8080/",
          "height": 297
        }
      },
      "source": [
        "fig, ax1 = plt.subplots(figsize=(7, 4))\n",
        "\n",
        "# fixed bin size\n",
        "bins = np.arange(0, max(span_sent_lens)+1, 1) # fixed bin size\n",
        "\n",
        "color = 'tab:blue'\n",
        "ax1.set_xlabel('# of Words')\n",
        "ax1.set_ylabel('Sentence Count')\n",
        "ax1.set_xlim([min(span_sent_lens)-1, max(span_sent_lens)+1])\n",
        "ax1.hist(span_sent_lens, bins=bins, alpha=0.5, color=color)\n",
        "plt.title(\"Distribution of Spanish Sentence Lengths\")\n",
        "\n",
        "\n",
        "fig.tight_layout()  # otherwise the right y-label is slightly clipped\n",
        "plt.show()"
      ],
      "execution_count": 0,
      "outputs": [
        {
          "output_type": "display_data",
          "data": {
            "image/png": "[encoded data removed]",
            "text/plain": [
              "<Figure size 504x288 with 1 Axes>"
            ]
          },
          "metadata": {
            "tags": []
          }
        }
      ]
    },
    {
      "cell_type": "code",
      "metadata": {
        "id": "za6kz6uCEShn",
        "colab_type": "code",
        "outputId": "b5e07023-c058-43a2-dc33-baa708da2e54",
        "colab": {
          "base_uri": "https://localhost:8080/",
          "height": 272
        }
      },
      "source": [
        "unique, counts = np.unique(span_sent_lens, return_counts=True)\n",
        "dict(zip(unique, counts))"
      ],
      "execution_count": 0,
      "outputs": [
        {
          "output_type": "execute_result",
          "data": {
            "text/plain": [
              "{3: 620,\n",
              " 4: 4215,\n",
              " 5: 11267,\n",
              " 6: 16725,\n",
              " 7: 16220,\n",
              " 8: 11546,\n",
              " 9: 6196,\n",
              " 10: 2299,\n",
              " 11: 673,\n",
              " 12: 180,\n",
              " 13: 42,\n",
              " 14: 14,\n",
              " 15: 1,\n",
              " 16: 1,\n",
              " 17: 1}"
            ]
          },
          "metadata": {
            "tags": []
          },
          "execution_count": 23
        }
      ]
    },
    {
      "cell_type": "markdown",
      "metadata": {
        "id": "dVOpOJkCE8jg",
        "colab_type": "text"
      },
      "source": [
        "The distribution of the Spanish sentences appears to have a tail on the right side. It appears we can contain 99% of our sentences by clipping the output sequence length at 11. This should save us quite a bit of RAM later on. "
      ]
    },
    {
      "cell_type": "code",
      "metadata": {
        "id": "rXxUNqy_FkM9",
        "colab_type": "code",
        "colab": {}
      },
      "source": [
        "output_seq_len = 11"
      ],
      "execution_count": 0,
      "outputs": []
    },
    {
      "cell_type": "code",
      "metadata": {
        "id": "ANEPhKBU1lrk",
        "colab_type": "code",
        "colab": {}
      },
      "source": [
        "span_word_cnts = dict()\n",
        "\n",
        "for sent in span_sents:\n",
        "  for wrd in sent.split(\" \"):\n",
        "    if wrd in span_word_cnts:\n",
        "      span_word_cnts[wrd] += 1\n",
        "    else:\n",
        "      span_word_cnts[wrd] = 1"
      ],
      "execution_count": 0,
      "outputs": []
    },
    {
      "cell_type": "code",
      "metadata": {
        "id": "ClqY8eWw1lgI",
        "colab_type": "code",
        "colab": {}
      },
      "source": [
        "span_word_cnts_array = [span_word_cnts[wrd] for wrd in span_word_cnts]"
      ],
      "execution_count": 0,
      "outputs": []
    },
    {
      "cell_type": "code",
      "metadata": {
        "id": "FjOpxEsn1lNH",
        "colab_type": "code",
        "colab": {}
      },
      "source": [
        "span_wrds = [wrd for wrd in span_word_cnts if span_word_cnts[wrd] > 2]"
      ],
      "execution_count": 0,
      "outputs": []
    },
    {
      "cell_type": "code",
      "metadata": {
        "id": "kLTOqqcD5wVd",
        "colab_type": "code",
        "outputId": "c87ecfbb-0d5b-4e1a-c09d-f7ff46113008",
        "colab": {
          "base_uri": "https://localhost:8080/",
          "height": 34
        }
      },
      "source": [
        "span_wrds.append('_UNK_')\n",
        "print(len(span_wrds))"
      ],
      "execution_count": 0,
      "outputs": [
        {
          "output_type": "stream",
          "text": [
            "6915\n"
          ],
          "name": "stdout"
        }
      ]
    },
    {
      "cell_type": "code",
      "metadata": {
        "id": "sdz2X5Sxl6GD",
        "colab_type": "code",
        "colab": {}
      },
      "source": [
        "input_words = sorted(list(eng_wrds))\n",
        "num_encoder_tokens = len(eng_wrds)\n",
        "del eng_words\n"
      ],
      "execution_count": 0,
      "outputs": []
    },
    {
      "cell_type": "code",
      "metadata": {
        "id": "70rKqn74Icmi",
        "colab_type": "code",
        "colab": {}
      },
      "source": [
        "del eng_wrds"
      ],
      "execution_count": 0,
      "outputs": []
    },
    {
      "cell_type": "code",
      "metadata": {
        "id": "nG1IRyDomc63",
        "colab_type": "code",
        "colab": {}
      },
      "source": [
        "output_words = sorted(list(span_wrds))\n",
        "num_decoder_tokens = len(span_wrds)\n",
        "del span_words"
      ],
      "execution_count": 0,
      "outputs": []
    },
    {
      "cell_type": "code",
      "metadata": {
        "id": "uadL1tVLIfpX",
        "colab_type": "code",
        "colab": {}
      },
      "source": [
        "del span_wrds"
      ],
      "execution_count": 0,
      "outputs": []
    },
    {
      "cell_type": "markdown",
      "metadata": {
        "id": "CLR7dJammt9k",
        "colab_type": "text"
      },
      "source": [
        "# Import FastText Word Embeddings"
      ]
    },
    {
      "cell_type": "markdown",
      "metadata": {
        "id": "422bfcsUFpwV",
        "colab_type": "text"
      },
      "source": [
        "For this exercise, we want to see if using the pretrained embeddings provided by Facebook's Fasttext will give our model an edge. Using pretrained embeddings should provide an advantage because the embeddings bring in much more context knowledge for the individual words based on a much larger sample corpus of millions of texts. Our dataset provides nowhere near enough training material."
      ]
    },
    {
      "cell_type": "code",
      "metadata": {
        "id": "g09wwW_foOmT",
        "colab_type": "code",
        "colab": {}
      },
      "source": [
        "from gensim.models import FastText"
      ],
      "execution_count": 0,
      "outputs": []
    },
    {
      "cell_type": "code",
      "metadata": {
        "id": "7uZEQ4t_oUFt",
        "colab_type": "code",
        "outputId": "ea21584f-9a79-44ad-95fd-d84a1272e631",
        "colab": {
          "base_uri": "https://localhost:8080/",
          "height": 71
        }
      },
      "source": [
        "from gensim.models import KeyedVectors\n",
        "ft_eng = KeyedVectors.load(\"/content/drive/My Drive/Spanish_Bible_Translation/fasttext_gensim_en.model\")"
      ],
      "execution_count": 0,
      "outputs": [
        {
          "output_type": "stream",
          "text": [
            "/usr/local/lib/python3.6/dist-packages/smart_open/smart_open_lib.py:402: UserWarning: This function is deprecated, use smart_open.open instead. See the migration notes for details: https://github.com/RaRe-Technologies/smart_open/blob/master/README.rst#migrating-to-the-new-open-function\n",
            "  'See the migration notes for details: %s' % _MIGRATION_NOTES_URL\n"
          ],
          "name": "stderr"
        }
      ]
    },
    {
      "cell_type": "markdown",
      "metadata": {
        "id": "k7VCz935JcXX",
        "colab_type": "text"
      },
      "source": [
        "### Handling Out-of-Vocabulary (OOV) Words\n",
        "In any large corpus, you are bound to encounter words that the popular pretrained word embeddings like FastText and Word2Vec do not account for. You need a robust way to handle these. \n",
        "\n",
        "One approach is to create random word embeddings for OOV words. However, this introduces the risk of the OOV word embeddings being complete outliers in the word embedding vector space. A simple remedy for this is to take the average and standard deviation of all the other word embeddings in the corpus, and making sure your random embeddings fall within those distributions. This will make sure your OOV word embeddings are not out of this world."
      ]
    },
    {
      "cell_type": "code",
      "metadata": {
        "id": "844l9PCuoJel",
        "colab_type": "code",
        "outputId": "99d67159-e80e-4eae-b9e8-7b0c4a5fc7e3",
        "colab": {
          "base_uri": "https://localhost:8080/",
          "height": 34
        }
      },
      "source": [
        "input_oov_words = []\n",
        "\n",
        "for i, wrd in enumerate(input_words):\n",
        "  if wrd not in ft_eng.vocab:\n",
        "    input_oov_words.append(wrd)\n",
        "\n",
        "print(\"Number of English OOV words: \", len(input_oov_words))"
      ],
      "execution_count": 0,
      "outputs": [
        {
          "output_type": "stream",
          "text": [
            "Number of English OOV words:  6\n"
          ],
          "name": "stdout"
        }
      ]
    },
    {
      "cell_type": "markdown",
      "metadata": {
        "id": "abGM6QVpmV4N",
        "colab_type": "text"
      },
      "source": [
        "We see that the OOV words make up a very small portion of the total vocabulary, which suggests that we are okay to try the method outlined above. "
      ]
    },
    {
      "cell_type": "code",
      "metadata": {
        "id": "Mhab7AQe4lky",
        "colab_type": "code",
        "colab": {}
      },
      "source": [
        "# Create a dictionary that \n",
        "\n",
        "#https://www.kaggle.com/sbongo/do-pretrained-embeddings-give-you-the-extra-edge\n",
        "input_embeddings_index = dict()\n",
        "\n",
        "for i, word in enumerate(input_words):\n",
        "  try:\n",
        "    embedding_vector = ft_eng.get_vector(word)\n",
        "  except KeyError:\n",
        "    embedding_vector = None\n",
        "  #embedding_vector = ft_eng.get_vector(word)\n",
        "  if embedding_vector is not None:\n",
        "    # words not found in embedding index will be all-zeros.\n",
        "    input_embeddings_index[i] = embedding_vector"
      ],
      "execution_count": 0,
      "outputs": []
    },
    {
      "cell_type": "markdown",
      "metadata": {
        "id": "69m_BudXnNCT",
        "colab_type": "text"
      },
      "source": [
        "To make our OOV word embeddings consistent with the existing word embeddings, we take the mean and standard deviation of the existing word embeddings. The OOV word embeddings now consist of random numbers within the normal range of the existing word embeddings."
      ]
    },
    {
      "cell_type": "code",
      "metadata": {
        "id": "FhWOrNGX5saT",
        "colab_type": "code",
        "colab": {}
      },
      "source": [
        "# https://www.kaggle.com/sbongo/do-pretrained-embeddings-give-you-the-extra-edge\n",
        "#We get the mean and standard deviation of the embedding weights so that we could maintain the \n",
        "        #same statistics for the rest of our own random generated weights. \n",
        "all_embs = np.stack(list(input_embeddings_index.values()))\n",
        "inp_emb_mean,inp_emb_std = all_embs.mean(), all_embs.std()\n",
        "del all_embs"
      ],
      "execution_count": 0,
      "outputs": []
    },
    {
      "cell_type": "code",
      "metadata": {
        "id": "AdCz9OVp6m4E",
        "colab_type": "code",
        "colab": {}
      },
      "source": [
        "#https://www.kaggle.com/sbongo/do-pretrained-embeddings-give-you-the-extra-edge\n",
        "input_oov_embeddings = dict()\n",
        "\n",
        "rare_embedding = np.random.normal(inp_emb_mean, inp_emb_std, 300)\n",
        "\n",
        "for wrd in input_oov_words:\n",
        "  input_oov_embeddings[wrd] = np.random.normal(inp_emb_mean, inp_emb_std, 300)"
      ],
      "execution_count": 0,
      "outputs": []
    },
    {
      "cell_type": "code",
      "metadata": {
        "id": "yRUHdzYL6Tnu",
        "colab_type": "code",
        "colab": {}
      },
      "source": [
        "del input_embeddings_index"
      ],
      "execution_count": 0,
      "outputs": []
    },
    {
      "cell_type": "markdown",
      "metadata": {
        "id": "F5Mj_QivoKCz",
        "colab_type": "text"
      },
      "source": [
        "We now have everything we need to create our input word embedding matrix that consist of the embeddings for every word of every sentence of our training corpus."
      ]
    },
    {
      "cell_type": "code",
      "metadata": {
        "id": "3lb0G0_VoLUs",
        "colab_type": "code",
        "colab": {}
      },
      "source": [
        "input_embedding_matrix = np.zeros((len(input_words), 300))\n",
        "for i, word in enumerate(input_words):\n",
        "  if word == '_UNK_':\n",
        "    input_embedding_matrix[i] = rare_embedding\n",
        "  else:\n",
        "    try:\n",
        "      embedding_vector = ft_eng.get_vector(word)\n",
        "    except KeyError:\n",
        "      embedding_vector = None\n",
        "    #embedding_vector = ft_eng.get_vector(word)\n",
        "    if embedding_vector is not None:\n",
        "      # words not found in embedding index will be all-zeros.\n",
        "      input_embedding_matrix[i] = embedding_vector\n",
        "    else:\n",
        "      input_embedding_matrix[i] = input_oov_embeddings[word]"
      ],
      "execution_count": 0,
      "outputs": []
    },
    {
      "cell_type": "code",
      "metadata": {
        "id": "en8JpFmuoNOF",
        "colab_type": "code",
        "colab": {}
      },
      "source": [
        "del ft_eng"
      ],
      "execution_count": 0,
      "outputs": []
    },
    {
      "cell_type": "code",
      "metadata": {
        "id": "SNUjRuTTiAvA",
        "colab_type": "code",
        "colab": {}
      },
      "source": [
        "del input_oov_words"
      ],
      "execution_count": 0,
      "outputs": []
    },
    {
      "cell_type": "markdown",
      "metadata": {
        "id": "eoIPrnF-oZAK",
        "colab_type": "text"
      },
      "source": [
        "###  Spanish FastText Word Embeddings\n",
        "We repeat the above procedure for the Spanish language FastText embeddings. At the end we will have the output embedding vectors for every word of every sentence of the training corpus. "
      ]
    },
    {
      "cell_type": "code",
      "metadata": {
        "id": "PyyplrTZDyOX",
        "colab_type": "code",
        "outputId": "722f033a-5e40-42df-95ff-663e5d1d90d3",
        "colab": {
          "base_uri": "https://localhost:8080/",
          "height": 71
        }
      },
      "source": [
        "# Original fasttext embeddings from https://fasttext.cc/\n",
        "ft_span = KeyedVectors.load(\"/content/drive/My Drive/Spanish_Bible_Translation/fasttext_gensim_span.model\")"
      ],
      "execution_count": 0,
      "outputs": [
        {
          "output_type": "stream",
          "text": [
            "/usr/local/lib/python3.6/dist-packages/smart_open/smart_open_lib.py:402: UserWarning: This function is deprecated, use smart_open.open instead. See the migration notes for details: https://github.com/RaRe-Technologies/smart_open/blob/master/README.rst#migrating-to-the-new-open-function\n",
            "  'See the migration notes for details: %s' % _MIGRATION_NOTES_URL\n"
          ],
          "name": "stderr"
        }
      ]
    },
    {
      "cell_type": "code",
      "metadata": {
        "id": "_J1zZTyQee2C",
        "colab_type": "code",
        "outputId": "6130b6cd-738b-45bd-f2c7-d1adc1ffadf1",
        "colab": {
          "base_uri": "https://localhost:8080/",
          "height": 34
        }
      },
      "source": [
        "output_oov_words = []\n",
        "\n",
        "for i, wrd in enumerate(output_words):\n",
        "  if wrd not in ft_span.vocab:\n",
        "    output_oov_words.append(wrd)\n",
        "\n",
        "print(len(output_oov_words))"
      ],
      "execution_count": 0,
      "outputs": [
        {
          "output_type": "stream",
          "text": [
            "6\n"
          ],
          "name": "stdout"
        }
      ]
    },
    {
      "cell_type": "code",
      "metadata": {
        "colab_type": "code",
        "id": "EJHbooXB9Fgz",
        "colab": {}
      },
      "source": [
        "#https://www.kaggle.com/sbongo/do-pretrained-embeddings-give-you-the-extra-edge\n",
        "output_embeddings_index = dict()\n",
        "\n",
        "for i, word in enumerate(output_words):\n",
        "  try:\n",
        "    embedding_vector = ft_span.get_vector(word)\n",
        "  except KeyError:\n",
        "    embedding_vector = None\n",
        "  #embedding_vector = ft_span.get_vector(word)\n",
        "  if embedding_vector is not None:\n",
        "    # words not found in embedding index will be all-zeros.\n",
        "    output_embeddings_index[i] = embedding_vector"
      ],
      "execution_count": 0,
      "outputs": []
    },
    {
      "cell_type": "code",
      "metadata": {
        "colab_type": "code",
        "id": "eTrI5IfG9RFB",
        "colab": {}
      },
      "source": [
        "# https://www.kaggle.com/sbongo/do-pretrained-embeddings-give-you-the-extra-edge\n",
        "#We get the mean and standard deviation of the embedding weights so that we could maintain the \n",
        "        #same statistics for the rest of our own random generated weights. \n",
        "all_embs = np.stack(list(output_embeddings_index.values()))\n",
        "out_emb_mean,out_emb_std = all_embs.mean(), all_embs.std()\n",
        "del all_embs"
      ],
      "execution_count": 0,
      "outputs": []
    },
    {
      "cell_type": "code",
      "metadata": {
        "id": "TtTEQ98O9Qrm",
        "colab_type": "code",
        "outputId": "638b22a4-2f5c-4842-f0c1-88c42865d48b",
        "colab": {
          "base_uri": "https://localhost:8080/",
          "height": 51
        }
      },
      "source": [
        "#https://www.kaggle.com/sbongo/do-pretrained-embeddings-give-you-the-extra-edge\n",
        "output_oov_embeddings = dict()\n",
        "\n",
        "for wrd in output_oov_words:\n",
        "  if wrd == \"START_\" or wrd == \"_END\":\n",
        "    print(wrd)\n",
        "    output_oov_embeddings[wrd] = np.zeros(300)\n",
        "  else:\n",
        "    output_oov_embeddings[wrd] = np.random.normal(out_emb_mean, out_emb_std, 300)"
      ],
      "execution_count": 0,
      "outputs": [
        {
          "output_type": "stream",
          "text": [
            "START_\n",
            "_END\n"
          ],
          "name": "stdout"
        }
      ]
    },
    {
      "cell_type": "code",
      "metadata": {
        "id": "3xo0Dqfi3eNF",
        "colab_type": "code",
        "colab": {}
      },
      "source": [
        "span_rare_embedding = np.random.normal(out_emb_mean, out_emb_std, 300)"
      ],
      "execution_count": 0,
      "outputs": []
    },
    {
      "cell_type": "code",
      "metadata": {
        "id": "HOTXtOYV9QpR",
        "colab_type": "code",
        "colab": {}
      },
      "source": [
        "del output_embeddings_index"
      ],
      "execution_count": 0,
      "outputs": []
    },
    {
      "cell_type": "code",
      "metadata": {
        "id": "3rig9SzPehb-",
        "colab_type": "code",
        "outputId": "58e2da6c-42a0-45bc-d704-a80c7c568879",
        "colab": {
          "base_uri": "https://localhost:8080/",
          "height": 51
        }
      },
      "source": [
        "output_embedding_matrix = np.zeros((len(output_words), 302))\n",
        "for i, word in enumerate(output_words):\n",
        "  if word == \"START_\":\n",
        "    print(i)\n",
        "    output_embedding_matrix[i, 300] = 1\n",
        "  elif word == \"_END\":\n",
        "    print(i)\n",
        "    output_embedding_matrix[i, 301] = 1\n",
        "  elif word == \"_UNK_\":\n",
        "    output_embedding_matrix[i, :300] = span_rare_embedding\n",
        "  else:\n",
        "    try:\n",
        "      embedding_vector = ft_span.get_vector(word)\n",
        "    except KeyError:\n",
        "      embedding_vector = None\n",
        "    if embedding_vector is not None:\n",
        "      if word == 'START_':\n",
        "        print(word)\n",
        "      # words not found in embedding index will be all-zeros.\n",
        "      output_embedding_matrix[i, :300] = embedding_vector\n",
        "    else:\n",
        "      if word == \"START_\":\n",
        "        print(output_oov_embeddings[word])\n",
        "      output_embedding_matrix[i, :300] = output_oov_embeddings[word]"
      ],
      "execution_count": 0,
      "outputs": [
        {
          "output_type": "stream",
          "text": [
            "33\n",
            "34\n"
          ],
          "name": "stdout"
        }
      ]
    },
    {
      "cell_type": "code",
      "metadata": {
        "id": "8BWGIhXYbFkr",
        "colab_type": "code",
        "colab": {}
      },
      "source": [
        "del ft_span"
      ],
      "execution_count": 0,
      "outputs": []
    },
    {
      "cell_type": "code",
      "metadata": {
        "id": "Mrt1FRHdk5vB",
        "colab_type": "code",
        "colab": {}
      },
      "source": [
        "del output_oov_words"
      ],
      "execution_count": 0,
      "outputs": []
    },
    {
      "cell_type": "markdown",
      "metadata": {
        "id": "pYjQU6S8p5Fk",
        "colab_type": "text"
      },
      "source": [
        "## Preparing the Data for our Neural Network\n",
        "In order to train our neural network, we need to convert the text data into numerical data that our neural network can learn from. Up to this point, we have put together the tools necessary to convert our data. Now we need to create the actual matrices that our neural network will use."
      ]
    },
    {
      "cell_type": "code",
      "metadata": {
        "id": "o7X8v5ur75Fl",
        "colab_type": "code",
        "colab": {}
      },
      "source": [
        "# Dictionary that stores each word as a unique index\n",
        "input_token_index = dict(\n",
        "    [(word, i) for i, word in enumerate(input_words)])"
      ],
      "execution_count": 0,
      "outputs": []
    },
    {
      "cell_type": "code",
      "metadata": {
        "id": "RzOiTVMIT5Cl",
        "colab_type": "code",
        "colab": {}
      },
      "source": [
        "# Dictionary that stores each word as a unique index\n",
        "target_token_index = dict(\n",
        "    [(word, i) for i, word in enumerate(output_words)])"
      ],
      "execution_count": 0,
      "outputs": []
    },
    {
      "cell_type": "markdown",
      "metadata": {
        "id": "9iT_mHTyrZpX",
        "colab_type": "text"
      },
      "source": [
        "We prepare three matrices. The first matrix is the encoder input matrix.\n",
        "\n",
        "The second and third matrices will both be for the decoder. The decoder input matrix sentences will start with the START token. The decoder output matrix will be offset by one token, starting with the first actual token of the sentence. This will train our decoder to predict the next word given the thought vector from the encoder, and the START token. It will then use the output as the input to predict the next token. Training the decoder in this way is called Teacher Forcing. Basically, instead of expecting the decoder to learn to output the whole phrase, we train it at each token and penalize the loss function if the next token is incorrect. Teacher forcing should improve the performance of our model. "
      ]
    },
    {
      "cell_type": "code",
      "metadata": {
        "id": "W9WQvNb8yPm7",
        "colab_type": "code",
        "colab": {}
      },
      "source": [
        "encoder_input_data = np.zeros((num_samples, input_seq_len), dtype='float32')"
      ],
      "execution_count": 0,
      "outputs": []
    },
    {
      "cell_type": "code",
      "metadata": {
        "id": "wWCqbgpgyPjV",
        "colab_type": "code",
        "colab": {}
      },
      "source": [
        "decoder_input_data = np.zeros((num_samples, output_seq_len), dtype='float32')"
      ],
      "execution_count": 0,
      "outputs": []
    },
    {
      "cell_type": "code",
      "metadata": {
        "id": "MSl03cHTVgr6",
        "colab_type": "code",
        "colab": {}
      },
      "source": [
        "decoder_target_data = np.zeros((num_samples, output_seq_len, len(output_words)), dtype='float32')"
      ],
      "execution_count": 0,
      "outputs": []
    },
    {
      "cell_type": "code",
      "metadata": {
        "id": "7cuqMEJzyjxN",
        "colab_type": "code",
        "colab": {}
      },
      "source": [
        "# Vectorize the encoder input sentences by storing the word indices in the input matrix\n",
        "for i, input_text in enumerate(eng_sents):\n",
        "    for t, word in enumerate(input_text.split()):\n",
        "      if t < input_seq_len:\n",
        "        if word in input_words:\n",
        "          encoder_input_data[i, t] = input_token_index[word]\n",
        "        else:\n",
        "          # if the word is not in the input_words matrix, store it as '_UNK_' for unknown\n",
        "          encoder_input_data[i, t] = input_token_index['_UNK_']"
      ],
      "execution_count": 0,
      "outputs": []
    },
    {
      "cell_type": "code",
      "metadata": {
        "id": "0C2sOewW0TvE",
        "colab_type": "code",
        "colab": {}
      },
      "source": [
        "# Vectorize the decoder input and output sentences\n",
        "for i, output_text in enumerate(span_sents):\n",
        "  for t, word in enumerate(output_text.split()):\n",
        "    if word in output_words:\n",
        "      if t < output_seq_len:\n",
        "        decoder_input_data[i, t] = target_token_index[word]\n",
        "\n",
        "      # the decoder output matrix is offset by one token\n",
        "      if t > 0 and t < output_seq_len+1:\n",
        "        decoder_target_data[i, t-1, target_token_index[word]] = 1.\n",
        "    \n",
        "    else:\n",
        "      # if the word is not in the output_words matrix, store it as '_UNK_' for unknown\n",
        "      if t < output_seq_len:\n",
        "        decoder_input_data[i, t] = target_token_index['_UNK_']\n",
        "      if t > 0 and t < output_seq_len+1:\n",
        "        decoder_target_data[i, t-1, target_token_index['_UNK_']] = 1.\n"
      ],
      "execution_count": 0,
      "outputs": []
    },
    {
      "cell_type": "markdown",
      "metadata": {
        "id": "No2xwvHyishw",
        "colab_type": "text"
      },
      "source": [
        "## Assembling our Neural Network\n",
        "With our training data vectorized, we are now ready to assemble our encoder-decoder neural network. "
      ]
    },
    {
      "cell_type": "code",
      "metadata": {
        "id": "uAenkb1CAc9E",
        "colab_type": "code",
        "outputId": "ea6ca79f-d73f-4b0f-aba1-d3cff64e80c4",
        "colab": {
          "base_uri": "https://localhost:8080/",
          "height": 80
        }
      },
      "source": [
        "from keras.layers import Input, CuDNNLSTM, Embedding, Dense\n",
        "from keras.models import Model\n",
        "from keras.utils import plot_model"
      ],
      "execution_count": 0,
      "outputs": [
        {
          "output_type": "stream",
          "text": [
            "Using TensorFlow backend.\n"
          ],
          "name": "stderr"
        },
        {
          "output_type": "display_data",
          "data": {
            "text/html": [
              "<p style=\"color: red;\">\n",
              "The default version of TensorFlow in Colab will soon switch to TensorFlow 2.x.<br>\n",
              "We recommend you <a href=\"https://www.tensorflow.org/guide/migrate\" target=\"_blank\">upgrade</a> now \n",
              "or ensure your notebook will continue to use TensorFlow 1.x via the <code>%tensorflow_version 1.x</code> magic:\n",
              "<a href=\"https://colab.research.google.com/notebooks/tensorflow_version.ipynb\" target=\"_blank\">more info</a>.</p>\n"
            ],
            "text/plain": [
              "<IPython.core.display.HTML object>"
            ]
          },
          "metadata": {
            "tags": []
          }
        }
      ]
    },
    {
      "cell_type": "markdown",
      "metadata": {
        "id": "N0uUhXh0lJH_",
        "colab_type": "text"
      },
      "source": [
        "### Encoder\n",
        "To take advantage of the pretrained word embeddings that we've imported, we create an Embedding layer and set the weights equal to the input_embedding_matrix. We make sure to set the trainable parameter to False so that our word embeddings stay the same throughout the learning process. "
      ]
    },
    {
      "cell_type": "code",
      "metadata": {
        "id": "3WJadgubAhJr",
        "colab_type": "code",
        "outputId": "bf49e710-3431-41b4-dae1-8c84a3704598",
        "colab": {
          "base_uri": "https://localhost:8080/",
          "height": 323
        }
      },
      "source": [
        "encoder_inputs = Input(shape=(None,))\n",
        "en_x=  Embedding(len(input_words),\n",
        "                            300,\n",
        "                            weights=[input_embedding_matrix],\n",
        "                            trainable=False)(encoder_inputs)\n",
        "encoder = CuDNNLSTM(50, return_state=True)\n",
        "encoder_outputs, state_h, state_c = encoder(en_x)\n",
        "# We discard `encoder_outputs` and only keep the states.\n",
        "encoder_states = [state_h, state_c]"
      ],
      "execution_count": 0,
      "outputs": [
        {
          "output_type": "stream",
          "text": [
            "WARNING:tensorflow:From /usr/local/lib/python3.6/dist-packages/keras/backend/tensorflow_backend.py:66: The name tf.get_default_graph is deprecated. Please use tf.compat.v1.get_default_graph instead.\n",
            "\n",
            "WARNING:tensorflow:From /usr/local/lib/python3.6/dist-packages/keras/backend/tensorflow_backend.py:541: The name tf.placeholder is deprecated. Please use tf.compat.v1.placeholder instead.\n",
            "\n",
            "WARNING:tensorflow:From /usr/local/lib/python3.6/dist-packages/keras/backend/tensorflow_backend.py:4432: The name tf.random_uniform is deprecated. Please use tf.random.uniform instead.\n",
            "\n",
            "WARNING:tensorflow:From /usr/local/lib/python3.6/dist-packages/keras/backend/tensorflow_backend.py:190: The name tf.get_default_session is deprecated. Please use tf.compat.v1.get_default_session instead.\n",
            "\n",
            "WARNING:tensorflow:From /usr/local/lib/python3.6/dist-packages/keras/backend/tensorflow_backend.py:197: The name tf.ConfigProto is deprecated. Please use tf.compat.v1.ConfigProto instead.\n",
            "\n",
            "WARNING:tensorflow:From /usr/local/lib/python3.6/dist-packages/keras/backend/tensorflow_backend.py:203: The name tf.Session is deprecated. Please use tf.compat.v1.Session instead.\n",
            "\n",
            "WARNING:tensorflow:From /usr/local/lib/python3.6/dist-packages/keras/backend/tensorflow_backend.py:207: The name tf.global_variables is deprecated. Please use tf.compat.v1.global_variables instead.\n",
            "\n",
            "WARNING:tensorflow:From /usr/local/lib/python3.6/dist-packages/keras/backend/tensorflow_backend.py:216: The name tf.is_variable_initialized is deprecated. Please use tf.compat.v1.is_variable_initialized instead.\n",
            "\n",
            "WARNING:tensorflow:From /usr/local/lib/python3.6/dist-packages/keras/backend/tensorflow_backend.py:223: The name tf.variables_initializer is deprecated. Please use tf.compat.v1.variables_initializer instead.\n",
            "\n"
          ],
          "name": "stdout"
        }
      ]
    },
    {
      "cell_type": "markdown",
      "metadata": {
        "id": "-0ZhwQ7cqOMy",
        "colab_type": "text"
      },
      "source": [
        "### Decoder \n",
        "Our decoder also consists of an embedding layer to hold our pre-trained FastText word embeddings. This time we set the dimension to 302 to hold the extra START and END token columns. "
      ]
    },
    {
      "cell_type": "code",
      "metadata": {
        "id": "wMVKb9Oq-zpt",
        "colab_type": "code",
        "outputId": "8e1df63b-20d5-4907-c512-86b89578bce5",
        "colab": {
          "base_uri": "https://localhost:8080/",
          "height": 85
        }
      },
      "source": [
        "# Set up the decoder, using `encoder_states` as initial state.\n",
        "decoder_inputs = Input(shape=(None,))\n",
        "dex=  Embedding(len(output_words),\n",
        "                302,\n",
        "                weights=[output_embedding_matrix],\n",
        "                trainable=False)\n",
        "final_dex= dex(decoder_inputs)\n",
        "\n",
        "\n",
        "decoder_lstm = CuDNNLSTM(50, return_sequences=True, return_state=True)\n",
        "\n",
        "decoder_outputs, _, _ = decoder_lstm(final_dex,\n",
        "                                     initial_state=encoder_states)\n",
        "\n",
        "decoder_dense = Dense(len(output_words), activation='softmax')\n",
        "\n",
        "decoder_outputs = decoder_dense(decoder_outputs)\n",
        "\n",
        "# Our neural network model takes both encoder_inputs and decoder_inputs as inputs, with the output being decoder_outputs\n",
        "model = Model([encoder_inputs, decoder_inputs], decoder_outputs)\n",
        "\n",
        "model.compile(optimizer='rmsprop', loss='categorical_crossentropy', metrics=['acc'])"
      ],
      "execution_count": 0,
      "outputs": [
        {
          "output_type": "stream",
          "text": [
            "WARNING:tensorflow:From /usr/local/lib/python3.6/dist-packages/keras/optimizers.py:793: The name tf.train.Optimizer is deprecated. Please use tf.compat.v1.train.Optimizer instead.\n",
            "\n",
            "WARNING:tensorflow:From /usr/local/lib/python3.6/dist-packages/keras/backend/tensorflow_backend.py:3576: The name tf.log is deprecated. Please use tf.math.log instead.\n",
            "\n"
          ],
          "name": "stdout"
        }
      ]
    },
    {
      "cell_type": "code",
      "metadata": {
        "id": "r0vd-c-e-zne",
        "colab_type": "code",
        "outputId": "3178cabd-0c9d-4477-9b44-4dab80e77355",
        "colab": {
          "base_uri": "https://localhost:8080/",
          "height": 425
        }
      },
      "source": [
        "model.summary()"
      ],
      "execution_count": 0,
      "outputs": [
        {
          "output_type": "stream",
          "text": [
            "Model: \"model_1\"\n",
            "__________________________________________________________________________________________________\n",
            "Layer (type)                    Output Shape         Param #     Connected to                     \n",
            "==================================================================================================\n",
            "input_1 (InputLayer)            (None, None)         0                                            \n",
            "__________________________________________________________________________________________________\n",
            "input_2 (InputLayer)            (None, None)         0                                            \n",
            "__________________________________________________________________________________________________\n",
            "embedding_1 (Embedding)         (None, None, 300)    1376100     input_1[0][0]                    \n",
            "__________________________________________________________________________________________________\n",
            "embedding_2 (Embedding)         (None, None, 302)    2088330     input_2[0][0]                    \n",
            "__________________________________________________________________________________________________\n",
            "cu_dnnlstm_1 (CuDNNLSTM)        [(None, 50), (None,  70400       embedding_1[0][0]                \n",
            "__________________________________________________________________________________________________\n",
            "cu_dnnlstm_2 (CuDNNLSTM)        [(None, None, 50), ( 70800       embedding_2[0][0]                \n",
            "                                                                 cu_dnnlstm_1[0][1]               \n",
            "                                                                 cu_dnnlstm_1[0][2]               \n",
            "__________________________________________________________________________________________________\n",
            "dense_1 (Dense)                 (None, None, 6915)   352665      cu_dnnlstm_2[0][0]               \n",
            "==================================================================================================\n",
            "Total params: 3,958,295\n",
            "Trainable params: 493,865\n",
            "Non-trainable params: 3,464,430\n",
            "__________________________________________________________________________________________________\n"
          ],
          "name": "stdout"
        }
      ]
    },
    {
      "cell_type": "code",
      "metadata": {
        "id": "1puyuRZ0F9J9",
        "colab_type": "code",
        "colab": {}
      },
      "source": [
        "#from keras.callbacks import EarlyStopping"
      ],
      "execution_count": 0,
      "outputs": []
    },
    {
      "cell_type": "code",
      "metadata": {
        "id": "rJGf6Wb5FSgA",
        "colab_type": "code",
        "colab": {}
      },
      "source": [
        "#EarlyStopping(monitor='val_loss', min_delta=0, patience=0, verbose=0, mode='auto', baseline=None, restore_best_weights=False)"
      ],
      "execution_count": 0,
      "outputs": []
    },
    {
      "cell_type": "markdown",
      "metadata": {
        "id": "ImUxRhIJrWhN",
        "colab_type": "text"
      },
      "source": [
        "We fit our model and find that the validation loss seems to stabilize after about 115 epochs. We use a traditional 80/20 split of the train validation data. "
      ]
    },
    {
      "cell_type": "code",
      "metadata": {
        "id": "d4L4zdn6jVOi",
        "colab_type": "code",
        "outputId": "ecc848ab-2577-4e43-b216-ed5e285661af",
        "colab": {
          "base_uri": "https://localhost:8080/",
          "height": 1000
        }
      },
      "source": [
        "model.fit(x=[encoder_input_data, decoder_input_data], y=decoder_target_data,\n",
        "          batch_size=128,\n",
        "          epochs=70, \n",
        "          validation_split=0.20\n",
        "          )"
      ],
      "execution_count": 0,
      "outputs": [
        {
          "output_type": "stream",
          "text": [
            "Train on 56000 samples, validate on 14000 samples\n",
            "Epoch 1/70\n",
            "56000/56000 [==============================] - 33s 593us/step - loss: 1.2441 - acc: 0.3060 - val_loss: 1.4001 - val_acc: 0.2878\n",
            "Epoch 2/70\n",
            "56000/56000 [==============================] - 33s 590us/step - loss: 1.2422 - acc: 0.3064 - val_loss: 1.4021 - val_acc: 0.2873\n",
            "Epoch 3/70\n",
            "56000/56000 [==============================] - 33s 592us/step - loss: 1.2403 - acc: 0.3067 - val_loss: 1.3980 - val_acc: 0.2871\n",
            "Epoch 4/70\n",
            "56000/56000 [==============================] - 33s 588us/step - loss: 1.2388 - acc: 0.3067 - val_loss: 1.3989 - val_acc: 0.2868\n",
            "Epoch 5/70\n",
            "56000/56000 [==============================] - 33s 590us/step - loss: 1.2370 - acc: 0.3073 - val_loss: 1.3988 - val_acc: 0.2873\n",
            "Epoch 6/70\n",
            "56000/56000 [==============================] - 33s 590us/step - loss: 1.2350 - acc: 0.3080 - val_loss: 1.3949 - val_acc: 0.2878\n",
            "Epoch 7/70\n",
            "56000/56000 [==============================] - 33s 592us/step - loss: 1.2329 - acc: 0.3082 - val_loss: 1.3949 - val_acc: 0.2883\n",
            "Epoch 8/70\n",
            "56000/56000 [==============================] - 33s 594us/step - loss: 1.2312 - acc: 0.3083 - val_loss: 1.3954 - val_acc: 0.2871\n",
            "Epoch 9/70\n",
            "56000/56000 [==============================] - 33s 594us/step - loss: 1.2297 - acc: 0.3088 - val_loss: 1.3941 - val_acc: 0.2884\n",
            "Epoch 10/70\n",
            "56000/56000 [==============================] - 33s 598us/step - loss: 1.2282 - acc: 0.3089 - val_loss: 1.3943 - val_acc: 0.2882\n",
            "Epoch 11/70\n",
            "56000/56000 [==============================] - 33s 593us/step - loss: 1.2268 - acc: 0.3094 - val_loss: 1.3892 - val_acc: 0.2891\n",
            "Epoch 12/70\n",
            "56000/56000 [==============================] - 33s 588us/step - loss: 1.2250 - acc: 0.3095 - val_loss: 1.3893 - val_acc: 0.2888\n",
            "Epoch 13/70\n",
            "56000/56000 [==============================] - 33s 588us/step - loss: 1.2236 - acc: 0.3100 - val_loss: 1.3950 - val_acc: 0.2876\n",
            "Epoch 14/70\n",
            "56000/56000 [==============================] - 33s 589us/step - loss: 1.2226 - acc: 0.3103 - val_loss: 1.3891 - val_acc: 0.2895\n",
            "Epoch 15/70\n",
            "56000/56000 [==============================] - 33s 587us/step - loss: 1.2214 - acc: 0.3103 - val_loss: 1.3879 - val_acc: 0.2903\n",
            "Epoch 16/70\n",
            "56000/56000 [==============================] - 33s 586us/step - loss: 1.2195 - acc: 0.3109 - val_loss: 1.3865 - val_acc: 0.2896\n",
            "Epoch 17/70\n",
            "56000/56000 [==============================] - 33s 591us/step - loss: 1.2180 - acc: 0.3111 - val_loss: 1.3863 - val_acc: 0.2893\n",
            "Epoch 18/70\n",
            "56000/56000 [==============================] - 33s 590us/step - loss: 1.2162 - acc: 0.3111 - val_loss: 1.3864 - val_acc: 0.2899\n",
            "Epoch 19/70\n",
            "56000/56000 [==============================] - 33s 588us/step - loss: 1.2152 - acc: 0.3115 - val_loss: 1.3895 - val_acc: 0.2888\n",
            "Epoch 20/70\n",
            "56000/56000 [==============================] - 33s 590us/step - loss: 1.2139 - acc: 0.3117 - val_loss: 1.3880 - val_acc: 0.2895\n",
            "Epoch 21/70\n",
            "56000/56000 [==============================] - 33s 593us/step - loss: 1.2125 - acc: 0.3123 - val_loss: 1.3866 - val_acc: 0.2893\n",
            "Epoch 22/70\n",
            "56000/56000 [==============================] - 33s 587us/step - loss: 1.2110 - acc: 0.3126 - val_loss: 1.3865 - val_acc: 0.2891\n",
            "Epoch 23/70\n",
            "56000/56000 [==============================] - 33s 587us/step - loss: 1.2101 - acc: 0.3125 - val_loss: 1.3834 - val_acc: 0.2905\n",
            "Epoch 24/70\n",
            "56000/56000 [==============================] - 33s 590us/step - loss: 1.2084 - acc: 0.3127 - val_loss: 1.3833 - val_acc: 0.2901\n",
            "Epoch 25/70\n",
            "56000/56000 [==============================] - 33s 589us/step - loss: 1.2075 - acc: 0.3133 - val_loss: 1.3811 - val_acc: 0.2904\n",
            "Epoch 26/70\n",
            "56000/56000 [==============================] - 33s 586us/step - loss: 1.2062 - acc: 0.3134 - val_loss: 1.3820 - val_acc: 0.2905\n",
            "Epoch 27/70\n",
            "56000/56000 [==============================] - 33s 587us/step - loss: 1.2050 - acc: 0.3136 - val_loss: 1.3810 - val_acc: 0.2902\n",
            "Epoch 28/70\n",
            "56000/56000 [==============================] - 33s 589us/step - loss: 1.2038 - acc: 0.3138 - val_loss: 1.3812 - val_acc: 0.2903\n",
            "Epoch 29/70\n",
            "56000/56000 [==============================] - 33s 587us/step - loss: 1.2030 - acc: 0.3142 - val_loss: 1.3816 - val_acc: 0.2902\n",
            "Epoch 30/70\n",
            "56000/56000 [==============================] - 33s 585us/step - loss: 1.2017 - acc: 0.3145 - val_loss: 1.3802 - val_acc: 0.2904\n",
            "Epoch 31/70\n",
            "56000/56000 [==============================] - 33s 588us/step - loss: 1.2011 - acc: 0.3144 - val_loss: 1.3804 - val_acc: 0.2906\n",
            "Epoch 32/70\n",
            "56000/56000 [==============================] - 33s 592us/step - loss: 1.1996 - acc: 0.3149 - val_loss: 1.3787 - val_acc: 0.2907\n",
            "Epoch 33/70\n",
            "56000/56000 [==============================] - 33s 587us/step - loss: 1.1987 - acc: 0.3151 - val_loss: 1.3785 - val_acc: 0.2912\n",
            "Epoch 34/70\n",
            "56000/56000 [==============================] - 33s 589us/step - loss: 1.1975 - acc: 0.3155 - val_loss: 1.3791 - val_acc: 0.2907\n",
            "Epoch 35/70\n",
            "56000/56000 [==============================] - 33s 591us/step - loss: 1.1966 - acc: 0.3155 - val_loss: 1.3786 - val_acc: 0.2915\n",
            "Epoch 36/70\n",
            "56000/56000 [==============================] - 33s 592us/step - loss: 1.1958 - acc: 0.3155 - val_loss: 1.3744 - val_acc: 0.2920\n",
            "Epoch 37/70\n",
            "56000/56000 [==============================] - 33s 590us/step - loss: 1.1948 - acc: 0.3159 - val_loss: 1.3759 - val_acc: 0.2915\n",
            "Epoch 38/70\n",
            "56000/56000 [==============================] - 33s 590us/step - loss: 1.1938 - acc: 0.3163 - val_loss: 1.3764 - val_acc: 0.2914\n",
            "Epoch 39/70\n",
            "56000/56000 [==============================] - 33s 591us/step - loss: 1.1929 - acc: 0.3164 - val_loss: 1.3748 - val_acc: 0.2925\n",
            "Epoch 40/70\n",
            "56000/56000 [==============================] - 33s 587us/step - loss: 1.1921 - acc: 0.3165 - val_loss: 1.3740 - val_acc: 0.2923\n",
            "Epoch 41/70\n",
            "56000/56000 [==============================] - 33s 586us/step - loss: 1.1906 - acc: 0.3170 - val_loss: 1.3740 - val_acc: 0.2916\n",
            "Epoch 42/70\n",
            "56000/56000 [==============================] - 33s 587us/step - loss: 1.1898 - acc: 0.3169 - val_loss: 1.3748 - val_acc: 0.2915\n",
            "Epoch 43/70\n",
            "56000/56000 [==============================] - 33s 588us/step - loss: 1.1888 - acc: 0.3176 - val_loss: 1.3758 - val_acc: 0.2926\n",
            "Epoch 44/70\n",
            "56000/56000 [==============================] - 33s 587us/step - loss: 1.1878 - acc: 0.3175 - val_loss: 1.3735 - val_acc: 0.2921\n",
            "Epoch 45/70\n",
            "56000/56000 [==============================] - 33s 589us/step - loss: 1.1867 - acc: 0.3177 - val_loss: 1.3732 - val_acc: 0.2918\n",
            "Epoch 46/70\n",
            "33024/56000 [================>.............] - ETA: 11s - loss: 1.1814 - acc: 0.3188"
          ],
          "name": "stdout"
        },
        {
          "output_type": "error",
          "ename": "KeyboardInterrupt",
          "evalue": "ignored",
          "traceback": [
            "\u001b[0;31m---------------------------------------------------------------------------\u001b[0m",
            "\u001b[0;31mKeyboardInterrupt\u001b[0m                         Traceback (most recent call last)",
            "\u001b[0;32m<ipython-input-73-18b76180fded>\u001b[0m in \u001b[0;36m<module>\u001b[0;34m()\u001b[0m\n\u001b[1;32m      2\u001b[0m           \u001b[0mbatch_size\u001b[0m\u001b[0;34m=\u001b[0m\u001b[0;36m128\u001b[0m\u001b[0;34m,\u001b[0m\u001b[0;34m\u001b[0m\u001b[0;34m\u001b[0m\u001b[0m\n\u001b[1;32m      3\u001b[0m           \u001b[0mepochs\u001b[0m\u001b[0;34m=\u001b[0m\u001b[0;36m70\u001b[0m\u001b[0;34m,\u001b[0m\u001b[0;34m\u001b[0m\u001b[0;34m\u001b[0m\u001b[0m\n\u001b[0;32m----> 4\u001b[0;31m           \u001b[0mvalidation_split\u001b[0m\u001b[0;34m=\u001b[0m\u001b[0;36m0.20\u001b[0m\u001b[0;34m\u001b[0m\u001b[0;34m\u001b[0m\u001b[0m\n\u001b[0m\u001b[1;32m      5\u001b[0m           )\n",
            "\u001b[0;32m/usr/local/lib/python3.6/dist-packages/keras/engine/training.py\u001b[0m in \u001b[0;36mfit\u001b[0;34m(self, x, y, batch_size, epochs, verbose, callbacks, validation_split, validation_data, shuffle, class_weight, sample_weight, initial_epoch, steps_per_epoch, validation_steps, validation_freq, max_queue_size, workers, use_multiprocessing, **kwargs)\u001b[0m\n\u001b[1;32m   1176\u001b[0m                                         \u001b[0msteps_per_epoch\u001b[0m\u001b[0;34m=\u001b[0m\u001b[0msteps_per_epoch\u001b[0m\u001b[0;34m,\u001b[0m\u001b[0;34m\u001b[0m\u001b[0;34m\u001b[0m\u001b[0m\n\u001b[1;32m   1177\u001b[0m                                         \u001b[0mvalidation_steps\u001b[0m\u001b[0;34m=\u001b[0m\u001b[0mvalidation_steps\u001b[0m\u001b[0;34m,\u001b[0m\u001b[0;34m\u001b[0m\u001b[0;34m\u001b[0m\u001b[0m\n\u001b[0;32m-> 1178\u001b[0;31m                                         validation_freq=validation_freq)\n\u001b[0m\u001b[1;32m   1179\u001b[0m \u001b[0;34m\u001b[0m\u001b[0m\n\u001b[1;32m   1180\u001b[0m     def evaluate(self,\n",
            "\u001b[0;32m/usr/local/lib/python3.6/dist-packages/keras/engine/training_arrays.py\u001b[0m in \u001b[0;36mfit_loop\u001b[0;34m(model, fit_function, fit_inputs, out_labels, batch_size, epochs, verbose, callbacks, val_function, val_inputs, shuffle, callback_metrics, initial_epoch, steps_per_epoch, validation_steps, validation_freq)\u001b[0m\n\u001b[1;32m    202\u001b[0m                     \u001b[0mins_batch\u001b[0m\u001b[0;34m[\u001b[0m\u001b[0mi\u001b[0m\u001b[0;34m]\u001b[0m \u001b[0;34m=\u001b[0m \u001b[0mins_batch\u001b[0m\u001b[0;34m[\u001b[0m\u001b[0mi\u001b[0m\u001b[0;34m]\u001b[0m\u001b[0;34m.\u001b[0m\u001b[0mtoarray\u001b[0m\u001b[0;34m(\u001b[0m\u001b[0;34m)\u001b[0m\u001b[0;34m\u001b[0m\u001b[0;34m\u001b[0m\u001b[0m\n\u001b[1;32m    203\u001b[0m \u001b[0;34m\u001b[0m\u001b[0m\n\u001b[0;32m--> 204\u001b[0;31m                 \u001b[0mouts\u001b[0m \u001b[0;34m=\u001b[0m \u001b[0mfit_function\u001b[0m\u001b[0;34m(\u001b[0m\u001b[0mins_batch\u001b[0m\u001b[0;34m)\u001b[0m\u001b[0;34m\u001b[0m\u001b[0;34m\u001b[0m\u001b[0m\n\u001b[0m\u001b[1;32m    205\u001b[0m                 \u001b[0mouts\u001b[0m \u001b[0;34m=\u001b[0m \u001b[0mto_list\u001b[0m\u001b[0;34m(\u001b[0m\u001b[0mouts\u001b[0m\u001b[0;34m)\u001b[0m\u001b[0;34m\u001b[0m\u001b[0;34m\u001b[0m\u001b[0m\n\u001b[1;32m    206\u001b[0m                 \u001b[0;32mfor\u001b[0m \u001b[0ml\u001b[0m\u001b[0;34m,\u001b[0m \u001b[0mo\u001b[0m \u001b[0;32min\u001b[0m \u001b[0mzip\u001b[0m\u001b[0;34m(\u001b[0m\u001b[0mout_labels\u001b[0m\u001b[0;34m,\u001b[0m \u001b[0mouts\u001b[0m\u001b[0;34m)\u001b[0m\u001b[0;34m:\u001b[0m\u001b[0;34m\u001b[0m\u001b[0;34m\u001b[0m\u001b[0m\n",
            "\u001b[0;32m/usr/local/lib/python3.6/dist-packages/keras/backend/tensorflow_backend.py\u001b[0m in \u001b[0;36m__call__\u001b[0;34m(self, inputs)\u001b[0m\n\u001b[1;32m   2977\u001b[0m                     \u001b[0;32mreturn\u001b[0m \u001b[0mself\u001b[0m\u001b[0;34m.\u001b[0m\u001b[0m_legacy_call\u001b[0m\u001b[0;34m(\u001b[0m\u001b[0minputs\u001b[0m\u001b[0;34m)\u001b[0m\u001b[0;34m\u001b[0m\u001b[0;34m\u001b[0m\u001b[0m\n\u001b[1;32m   2978\u001b[0m \u001b[0;34m\u001b[0m\u001b[0m\n\u001b[0;32m-> 2979\u001b[0;31m             \u001b[0;32mreturn\u001b[0m \u001b[0mself\u001b[0m\u001b[0;34m.\u001b[0m\u001b[0m_call\u001b[0m\u001b[0;34m(\u001b[0m\u001b[0minputs\u001b[0m\u001b[0;34m)\u001b[0m\u001b[0;34m\u001b[0m\u001b[0;34m\u001b[0m\u001b[0m\n\u001b[0m\u001b[1;32m   2980\u001b[0m         \u001b[0;32melse\u001b[0m\u001b[0;34m:\u001b[0m\u001b[0;34m\u001b[0m\u001b[0;34m\u001b[0m\u001b[0m\n\u001b[1;32m   2981\u001b[0m             \u001b[0;32mif\u001b[0m \u001b[0mpy_any\u001b[0m\u001b[0;34m(\u001b[0m\u001b[0mis_tensor\u001b[0m\u001b[0;34m(\u001b[0m\u001b[0mx\u001b[0m\u001b[0;34m)\u001b[0m \u001b[0;32mfor\u001b[0m \u001b[0mx\u001b[0m \u001b[0;32min\u001b[0m \u001b[0minputs\u001b[0m\u001b[0;34m)\u001b[0m\u001b[0;34m:\u001b[0m\u001b[0;34m\u001b[0m\u001b[0;34m\u001b[0m\u001b[0m\n",
            "\u001b[0;32m/usr/local/lib/python3.6/dist-packages/keras/backend/tensorflow_backend.py\u001b[0m in \u001b[0;36m_call\u001b[0;34m(self, inputs)\u001b[0m\n\u001b[1;32m   2935\u001b[0m             \u001b[0mfetched\u001b[0m \u001b[0;34m=\u001b[0m \u001b[0mself\u001b[0m\u001b[0;34m.\u001b[0m\u001b[0m_callable_fn\u001b[0m\u001b[0;34m(\u001b[0m\u001b[0;34m*\u001b[0m\u001b[0marray_vals\u001b[0m\u001b[0;34m,\u001b[0m \u001b[0mrun_metadata\u001b[0m\u001b[0;34m=\u001b[0m\u001b[0mself\u001b[0m\u001b[0;34m.\u001b[0m\u001b[0mrun_metadata\u001b[0m\u001b[0;34m)\u001b[0m\u001b[0;34m\u001b[0m\u001b[0;34m\u001b[0m\u001b[0m\n\u001b[1;32m   2936\u001b[0m         \u001b[0;32melse\u001b[0m\u001b[0;34m:\u001b[0m\u001b[0;34m\u001b[0m\u001b[0;34m\u001b[0m\u001b[0m\n\u001b[0;32m-> 2937\u001b[0;31m             \u001b[0mfetched\u001b[0m \u001b[0;34m=\u001b[0m \u001b[0mself\u001b[0m\u001b[0;34m.\u001b[0m\u001b[0m_callable_fn\u001b[0m\u001b[0;34m(\u001b[0m\u001b[0;34m*\u001b[0m\u001b[0marray_vals\u001b[0m\u001b[0;34m)\u001b[0m\u001b[0;34m\u001b[0m\u001b[0;34m\u001b[0m\u001b[0m\n\u001b[0m\u001b[1;32m   2938\u001b[0m         \u001b[0;32mreturn\u001b[0m \u001b[0mfetched\u001b[0m\u001b[0;34m[\u001b[0m\u001b[0;34m:\u001b[0m\u001b[0mlen\u001b[0m\u001b[0;34m(\u001b[0m\u001b[0mself\u001b[0m\u001b[0;34m.\u001b[0m\u001b[0moutputs\u001b[0m\u001b[0;34m)\u001b[0m\u001b[0;34m]\u001b[0m\u001b[0;34m\u001b[0m\u001b[0;34m\u001b[0m\u001b[0m\n\u001b[1;32m   2939\u001b[0m \u001b[0;34m\u001b[0m\u001b[0m\n",
            "\u001b[0;32m/usr/local/lib/python3.6/dist-packages/tensorflow_core/python/client/session.py\u001b[0m in \u001b[0;36m__call__\u001b[0;34m(self, *args, **kwargs)\u001b[0m\n\u001b[1;32m   1470\u001b[0m         ret = tf_session.TF_SessionRunCallable(self._session._session,\n\u001b[1;32m   1471\u001b[0m                                                \u001b[0mself\u001b[0m\u001b[0;34m.\u001b[0m\u001b[0m_handle\u001b[0m\u001b[0;34m,\u001b[0m \u001b[0margs\u001b[0m\u001b[0;34m,\u001b[0m\u001b[0;34m\u001b[0m\u001b[0;34m\u001b[0m\u001b[0m\n\u001b[0;32m-> 1472\u001b[0;31m                                                run_metadata_ptr)\n\u001b[0m\u001b[1;32m   1473\u001b[0m         \u001b[0;32mif\u001b[0m \u001b[0mrun_metadata\u001b[0m\u001b[0;34m:\u001b[0m\u001b[0;34m\u001b[0m\u001b[0;34m\u001b[0m\u001b[0m\n\u001b[1;32m   1474\u001b[0m           \u001b[0mproto_data\u001b[0m \u001b[0;34m=\u001b[0m \u001b[0mtf_session\u001b[0m\u001b[0;34m.\u001b[0m\u001b[0mTF_GetBuffer\u001b[0m\u001b[0;34m(\u001b[0m\u001b[0mrun_metadata_ptr\u001b[0m\u001b[0;34m)\u001b[0m\u001b[0;34m\u001b[0m\u001b[0;34m\u001b[0m\u001b[0m\n",
            "\u001b[0;31mKeyboardInterrupt\u001b[0m: "
          ]
        }
      ]
    },
    {
      "cell_type": "code",
      "metadata": {
        "id": "sG1a0Q4VAhGY",
        "colab_type": "code",
        "outputId": "45df8e4c-6877-421b-e140-4b62c0aaa6c4",
        "colab": {
          "base_uri": "https://localhost:8080/",
          "height": 255
        }
      },
      "source": [
        "encoder_model = Model(encoder_inputs, encoder_states)\n",
        "encoder_model.summary()"
      ],
      "execution_count": 0,
      "outputs": [
        {
          "output_type": "stream",
          "text": [
            "Model: \"model_4\"\n",
            "_________________________________________________________________\n",
            "Layer (type)                 Output Shape              Param #   \n",
            "=================================================================\n",
            "input_1 (InputLayer)         (None, None)              0         \n",
            "_________________________________________________________________\n",
            "embedding_1 (Embedding)      (None, None, 300)         1376100   \n",
            "_________________________________________________________________\n",
            "cu_dnnlstm_1 (CuDNNLSTM)     [(None, 50), (None, 50),  70400     \n",
            "=================================================================\n",
            "Total params: 1,446,500\n",
            "Trainable params: 70,400\n",
            "Non-trainable params: 1,376,100\n",
            "_________________________________________________________________\n"
          ],
          "name": "stdout"
        }
      ]
    },
    {
      "cell_type": "code",
      "metadata": {
        "id": "slOVaimI_0To",
        "colab_type": "code",
        "colab": {}
      },
      "source": [
        "decoder_state_input_h = Input(shape=(50,))\n",
        "decoder_state_input_c = Input(shape=(50,))\n",
        "decoder_states_inputs = [decoder_state_input_h, decoder_state_input_c]\n",
        "\n",
        "final_dex2= dex(decoder_inputs)\n",
        "\n",
        "decoder_outputs2, state_h2, state_c2 = decoder_lstm(final_dex2, initial_state=decoder_states_inputs)\n",
        "decoder_states2 = [state_h2, state_c2]\n",
        "decoder_outputs2 = decoder_dense(decoder_outputs2)\n",
        "decoder_model = Model(\n",
        "    [decoder_inputs] + decoder_states_inputs,\n",
        "    [decoder_outputs2] + decoder_states2)\n",
        "\n",
        "# Reverse-lookup token index to decode sequences back to\n",
        "# something readable.\n",
        "reverse_input_char_index = dict(\n",
        "    (i, char) for char, i in input_token_index.items())\n",
        "reverse_target_char_index = dict(\n",
        "    (i, char) for char, i in target_token_index.items())"
      ],
      "execution_count": 0,
      "outputs": []
    },
    {
      "cell_type": "code",
      "metadata": {
        "id": "JAwYPcAEDk-U",
        "colab_type": "code",
        "colab": {}
      },
      "source": [
        ""
      ],
      "execution_count": 0,
      "outputs": []
    },
    {
      "cell_type": "code",
      "metadata": {
        "id": "uoBqLjVN_0SL",
        "colab_type": "code",
        "colab": {}
      },
      "source": [
        "def decode_sequence(input_seq):\n",
        "    # Encode the input as state vectors.\n",
        "    states_value = encoder_model.predict(input_seq)\n",
        "    # Generate empty target sequence of length 1.\n",
        "    target_seq = np.zeros((1,1))\n",
        "    # Populate the first character of target sequence with the start character.\n",
        "    target_seq[0, 0] = target_token_index['START_']\n",
        "\n",
        "    # Sampling loop for a batch of sequences\n",
        "    # (to simplify, here we assume a batch of size 1).\n",
        "    stop_condition = False\n",
        "    decoded_sentence = ''\n",
        "    while not stop_condition:\n",
        "        output_tokens, h, c = decoder_model.predict(\n",
        "            [target_seq] + states_value)\n",
        "\n",
        "        # Sample a token\n",
        "        sampled_token_index = np.argmax(output_tokens[0, -1, :])\n",
        "        if sampled_token_index == 51:\n",
        "          print(reverse_target_char_index[sampled_token_index])\n",
        "\n",
        "        sampled_char = reverse_target_char_index[sampled_token_index]\n",
        "        decoded_sentence += ' '+sampled_char\n",
        "\n",
        "        # Exit condition: either hit max length\n",
        "        # or find stop character.\n",
        "        if (sampled_char == '_END' or\n",
        "           len(decoded_sentence.split()) > output_seq_len):\n",
        "          print(sampled_char)\n",
        "          print(len(decoded_sentence.split()))\n",
        "          stop_condition = True\n",
        "\n",
        "        # Update the target sequence (of length 1).\n",
        "        target_seq = np.zeros((1,1))\n",
        "        target_seq[0, 0] = sampled_token_index\n",
        "\n",
        "        # Update states\n",
        "        states_value = [h, c]\n",
        "\n",
        "    return decoded_sentence"
      ],
      "execution_count": 0,
      "outputs": []
    },
    {
      "cell_type": "code",
      "metadata": {
        "id": "2A0LP39kTdCD",
        "colab_type": "code",
        "colab": {}
      },
      "source": [
        "test_phrase = \"i see you\"\n",
        "\n",
        "test_phrase_input_vector = np.zeros((1, input_seq_len), dtype='float32')\n",
        "test_phrase__output_vector = np.zeros((1, output_seq_len, len(output_words)), dtype='float32')\n",
        "\n",
        "for t, word in enumerate(test_phrase.split()):\n",
        "  try:\n",
        "    tok_ind = input_token_index[word]\n",
        "  except KeyError:\n",
        "    tok_ind = None\n",
        "  \n",
        "  if tok_ind is not None:\n",
        "    test_phrase_input_vector[0, t] = input_token_index[word]\n",
        "  else:\n",
        "    test_phrase_input_vector[0, t] = input_token_index['_UNK_']\n",
        "\n",
        "#test_phrase_input_vector[0, t+1:, input_token_index[' ']] = 1.\n"
      ],
      "execution_count": 0,
      "outputs": []
    },
    {
      "cell_type": "code",
      "metadata": {
        "id": "Wz2oIxYZdPpG",
        "colab_type": "code",
        "outputId": "812ca204-f6a6-4539-ceb7-1571a7f735ac",
        "colab": {
          "base_uri": "https://localhost:8080/",
          "height": 85
        }
      },
      "source": [
        "#test_phrase_input_vector\n",
        "print(test_phrase)\n",
        "decoded_sent = decode_sequence(test_phrase_input_vector)\n",
        "\n",
        "print(decoded_sent)"
      ],
      "execution_count": 0,
      "outputs": [
        {
          "output_type": "stream",
          "text": [
            "i see you\n",
            "_END\n",
            "3\n",
            " te veo _END\n"
          ],
          "name": "stdout"
        }
      ]
    },
    {
      "cell_type": "code",
      "metadata": {
        "id": "YReda5R9Tc_B",
        "colab_type": "code",
        "outputId": "ff790092-ebe8-4f8c-a9eb-f3bb4fe678ef",
        "colab": {
          "base_uri": "https://localhost:8080/",
          "height": 1000
        }
      },
      "source": [
        "#rand_idx = random.sample(test_idx, 100)\n",
        "\n",
        "rand_idx = random.sample(range(0, 70000), 100)\n",
        "\n",
        "for seq_index in rand_idx:\n",
        "    input_seq = encoder_input_data[seq_index: seq_index + 1]\n",
        "    decoded_sentence = decode_sequence(input_seq)\n",
        "    print('-')\n",
        "    print('Input sentence:', eng_sents[seq_index: seq_index + 1])\n",
        "    print('Decoded sentence:', decoded_sentence)"
      ],
      "execution_count": 0,
      "outputs": [
        {
          "output_type": "stream",
          "text": [
            "_END\n",
            "5\n",
            "-\n",
            "Input sentence: ['come back here immediately']\n",
            "Decoded sentence:  vuelve aquí por favor _END\n",
            "_END\n",
            "9\n",
            "-\n",
            "Input sentence: ['lets do only one thing at a time']\n",
            "Decoded sentence:  solo una vez una vez en la misma _END\n",
            "_END\n",
            "5\n",
            "-\n",
            "Input sentence: ['i love ice cream']\n",
            "Decoded sentence:  me gusta el _UNK_ _END\n",
            "_END\n",
            "3\n",
            "-\n",
            "Input sentence: ['no way']\n",
            "Decoded sentence:  de nadie _END\n",
            "_END\n",
            "7\n",
            "-\n",
            "Input sentence: ['they caught foxes with traps']\n",
            "Decoded sentence:  ellos _UNK_ _UNK_ _UNK_ de _UNK_ _END\n",
            "_END\n",
            "4\n",
            "-\n",
            "Input sentence: ['youre so talented']\n",
            "Decoded sentence:  eres tan grande _END\n",
            "_END\n",
            "4\n",
            "-\n",
            "Input sentence: ['there were no jobs']\n",
            "Decoded sentence:  no tenemos muchos _END\n",
            "_END\n",
            "9\n",
            "-\n",
            "Input sentence: ['i didnt mind sitting by myself']\n",
            "Decoded sentence:  no me he estado solo en esa hora _END\n",
            "_END\n",
            "7\n",
            "-\n",
            "Input sentence: ['whats toms full name']\n",
            "Decoded sentence:  cuál es el nombre de tom _END\n",
            "_END\n",
            "4\n",
            "-\n",
            "Input sentence: ['it was from tom']\n",
            "Decoded sentence:  fue de tom _END\n",
            "_END\n",
            "5\n",
            "-\n",
            "Input sentence: ['tom left mary alone']\n",
            "Decoded sentence:  tom dejó a mary _END\n",
            "_END\n",
            "6\n",
            "-\n",
            "Input sentence: ['what time is it its 320']\n",
            "Decoded sentence:  qué es hora de _UNK_ _END\n",
            "_END\n",
            "9\n",
            "-\n",
            "Input sentence: ['she pleaded with him to not leave']\n",
            "Decoded sentence:  ella no le aconsejó que _UNK_ a hacer _END\n",
            "_END\n",
            "7\n",
            "-\n",
            "Input sentence: ['i was told i couldnt do that']\n",
            "Decoded sentence:  me lo dijo que tenía nada _END\n",
            "_END\n",
            "7\n",
            "-\n",
            "Input sentence: ['my mother is sick in bed']\n",
            "Decoded sentence:  mi madre está en la cama _END\n",
            "_END\n",
            "4\n",
            "-\n",
            "Input sentence: ['tom is mad']\n",
            "Decoded sentence:  tom está loco _END\n",
            "_END\n",
            "4\n",
            "-\n",
            "Input sentence: ['were not poor']\n",
            "Decoded sentence:  no somos estos _END\n",
            "_END\n",
            "6\n",
            "-\n",
            "Input sentence: ['i cant believe he kissed you']\n",
            "Decoded sentence:  no me puedo hablar contigo _END\n",
            "_END\n",
            "6\n",
            "-\n",
            "Input sentence: ['tom wears a gold wristwatch']\n",
            "Decoded sentence:  tom lleva _UNK_ un _UNK_ _END\n",
            "_END\n",
            "7\n",
            "-\n",
            "Input sentence: ['tom cannot drive a car']\n",
            "Decoded sentence:  tom no puede conducir un coche _END\n",
            "_END\n",
            "4\n",
            "-\n",
            "Input sentence: ['try to go slower']\n",
            "Decoded sentence:  _UNK_ a comer _END\n",
            "_END\n",
            "3\n",
            "-\n",
            "Input sentence: ['write me']\n",
            "Decoded sentence:  me _UNK_ _END\n",
            "_END\n",
            "9\n",
            "-\n",
            "Input sentence: ['she acted as if she knew nothing']\n",
            "Decoded sentence:  ella se lo dijo con si tenía _UNK_ _END\n",
            "_END\n",
            "6\n",
            "-\n",
            "Input sentence: ['the bride was radiant']\n",
            "Decoded sentence:  la fue _UNK_ a mary _END\n",
            "_END\n",
            "7\n",
            "-\n",
            "Input sentence: ['they dont take care of that dog']\n",
            "Decoded sentence:  no le perro y esa es _END\n",
            "_END\n",
            "5\n",
            "-\n",
            "Input sentence: ['give him my regards']\n",
            "Decoded sentence:  _UNK_ de mi hermano _END\n",
            "_END\n",
            "4\n",
            "-\n",
            "Input sentence: ['tom stayed']\n",
            "Decoded sentence:  tom se _UNK_ _END\n",
            "_END\n",
            "6\n",
            "-\n",
            "Input sentence: ['economy cars save you money']\n",
            "Decoded sentence:  los _UNK_ _UNK_ _UNK_ dinero _END\n",
            "_END\n",
            "6\n",
            "-\n",
            "Input sentence: ['have you ever seen one']\n",
            "Decoded sentence:  alguna vez te has visto _END\n",
            "_END\n",
            "4\n",
            "-\n",
            "Input sentence: ['try this sauce']\n",
            "Decoded sentence:  _UNK_ esta _UNK_ _END\n",
            "_END\n",
            "5\n",
            "-\n",
            "Input sentence: ['im here to help you']\n",
            "Decoded sentence:  estoy aquí para ayudarte _END\n",
            "_END\n",
            "7\n",
            "-\n",
            "Input sentence: ['he is a scientist and musician']\n",
            "Decoded sentence:  él es un hombre y _UNK_ _END\n",
            "_END\n",
            "3\n",
            "-\n",
            "Input sentence: ['can we go']\n",
            "Decoded sentence:  podemos ir _END\n",
            "_END\n",
            "5\n",
            "-\n",
            "Input sentence: ['tom made a mistake']\n",
            "Decoded sentence:  tom hizo un error _END\n",
            "_END\n",
            "8\n",
            "-\n",
            "Input sentence: ['ill need to make some more tests']\n",
            "Decoded sentence:  necesito _UNK_ más hacer más que hacer _END\n",
            "_END\n",
            "5\n",
            "-\n",
            "Input sentence: ['the prize wont be given to her']\n",
            "Decoded sentence:  el quién no _UNK_ _END\n",
            "_END\n",
            "6\n",
            "-\n",
            "Input sentence: ['has tom eaten yet']\n",
            "Decoded sentence:  tom ha estado alguna vez _END\n",
            "_END\n",
            "7\n",
            "-\n",
            "Input sentence: ['i guess ive gotten lazy']\n",
            "Decoded sentence:  supongo que me he tenido _UNK_ _END\n",
            "_END\n",
            "6\n",
            "-\n",
            "Input sentence: ['tom struggled to get free']\n",
            "Decoded sentence:  tom se _UNK_ a _UNK_ _END\n",
            "_END\n",
            "3\n",
            "-\n",
            "Input sentence: ['i need them']\n",
            "Decoded sentence:  yo necesito _END\n",
            "_END\n",
            "6\n",
            "-\n",
            "Input sentence: ['do you have a hobby tom']\n",
            "Decoded sentence:  tienes un poco de tom _END\n",
            "_END\n",
            "5\n",
            "-\n",
            "Input sentence: ['hes watching me']\n",
            "Decoded sentence:  él me está esperando _END\n",
            "_END\n",
            "7\n",
            "-\n",
            "Input sentence: ['they bought a new car']\n",
            "Decoded sentence:  ellos se hace un coche nuevo _END\n",
            "_END\n",
            "8\n",
            "-\n",
            "Input sentence: ['his family didnt have much money']\n",
            "Decoded sentence:  su vida no tiene dinero a suficiente _END\n",
            "_END\n",
            "2\n",
            "-\n",
            "Input sentence: ['help me out']\n",
            "Decoded sentence:  ayúdame _END\n",
            "_END\n",
            "5\n",
            "-\n",
            "Input sentence: ['you have to go alone']\n",
            "Decoded sentence:  tienes que ir solo _END\n",
            "_END\n",
            "7\n",
            "-\n",
            "Input sentence: ['the boy knocked the glass over']\n",
            "Decoded sentence:  el niño se _UNK_ el leche _END\n",
            "_END\n",
            "6\n",
            "-\n",
            "Input sentence: ['tom didnt come back']\n",
            "Decoded sentence:  tom no se ha ido _END\n",
            "_END\n",
            "8\n",
            "-\n",
            "Input sentence: ['tests start next week']\n",
            "Decoded sentence:  ella el _UNK_ el juego el año _END\n",
            "_END\n",
            "6\n",
            "-\n",
            "Input sentence: ['i cant see anything from here']\n",
            "Decoded sentence:  no puedo ver nada aquí _END\n",
            "_END\n",
            "5\n",
            "-\n",
            "Input sentence: ['its on the sofa']\n",
            "Decoded sentence:  está en la cama _END\n",
            "_END\n",
            "8\n",
            "-\n",
            "Input sentence: ['he arrived earlier than usual']\n",
            "Decoded sentence:  él se fue más tarde de nuevo _END\n",
            "_END\n",
            "5\n",
            "-\n",
            "Input sentence: ['my telephone doesnt work']\n",
            "Decoded sentence:  mi trabajo no funciona _END\n",
            "_END\n",
            "6\n",
            "-\n",
            "Input sentence: ['few people think so']\n",
            "Decoded sentence:  algunas personas que son estos _END\n",
            "_END\n",
            "10\n",
            "-\n",
            "Input sentence: ['we waited till 230']\n",
            "Decoded sentence:  nos _UNK_ hasta las y las dos y media _END\n",
            "_END\n",
            "7\n",
            "-\n",
            "Input sentence: ['tom is younger than mary']\n",
            "Decoded sentence:  tom es más joven que mary _END\n",
            "_END\n",
            "5\n",
            "-\n",
            "Input sentence: ['no one ran ahead of him']\n",
            "Decoded sentence:  no se lo _UNK_ _END\n",
            "_END\n",
            "4\n",
            "-\n",
            "Input sentence: ['im a translator']\n",
            "Decoded sentence:  soy un estudiante _END\n",
            "_END\n",
            "8\n",
            "-\n",
            "Input sentence: ['wanna crash at my place']\n",
            "Decoded sentence:  _UNK_ a la puerta en la puerta _END\n",
            "_END\n",
            "5\n",
            "-\n",
            "Input sentence: ['she set out for thailand']\n",
            "Decoded sentence:  ella _UNK_ por _UNK_ _END\n",
            "_END\n",
            "7\n",
            "-\n",
            "Input sentence: ['he was determined to go abroad']\n",
            "Decoded sentence:  él fue _UNK_ a ir solo _END\n",
            "_END\n",
            "7\n",
            "-\n",
            "Input sentence: ['whats the plan for today']\n",
            "Decoded sentence:  qué es el plan para hoy _END\n",
            "_END\n",
            "7\n",
            "-\n",
            "Input sentence: ['i dont like doctors']\n",
            "Decoded sentence:  no me gustan los de _UNK_ _END\n",
            "_END\n",
            "4\n",
            "-\n",
            "Input sentence: ['youve got mail']\n",
            "Decoded sentence:  tienes el _UNK_ _END\n",
            "_END\n",
            "2\n",
            "-\n",
            "Input sentence: ['try that on']\n",
            "Decoded sentence:  _UNK_ _END\n",
            "_END\n",
            "4\n",
            "-\n",
            "Input sentence: ['im not leaving here']\n",
            "Decoded sentence:  no estoy aquí _END\n",
            "_END\n",
            "5\n",
            "-\n",
            "Input sentence: ['you broke the washing machine']\n",
            "Decoded sentence:  se _UNK_ el _UNK_ _END\n",
            "_END\n",
            "7\n",
            "-\n",
            "Input sentence: ['tom drank a glass of milk']\n",
            "Decoded sentence:  tom se un vaso de leche _END\n",
            "_END\n",
            "7\n",
            "-\n",
            "Input sentence: ['thats just crazy']\n",
            "Decoded sentence:  eso es un poco de _UNK_ _END\n",
            "_END\n",
            "5\n",
            "-\n",
            "Input sentence: ['let me think a minute']\n",
            "Decoded sentence:  déjame estar un poco _END\n",
            "_END\n",
            "6\n",
            "-\n",
            "Input sentence: ['please come again']\n",
            "Decoded sentence:  por favor ven a nuevo _END\n",
            "_END\n",
            "7\n",
            "-\n",
            "Input sentence: ['i think ive lost my ticket']\n",
            "Decoded sentence:  creo que he perdido mi coche _END\n",
            "_END\n",
            "4\n",
            "-\n",
            "Input sentence: ['quiet please']\n",
            "Decoded sentence:  por favor _UNK_ _END\n",
            "_END\n",
            "4\n",
            "-\n",
            "Input sentence: ['tom is deceitful']\n",
            "Decoded sentence:  tom es _UNK_ _END\n",
            "_END\n",
            "9\n",
            "-\n",
            "Input sentence: ['i made him paint the house']\n",
            "Decoded sentence:  yo le hice la casa que se _UNK_ _END\n",
            "_END\n",
            "7\n",
            "-\n",
            "Input sentence: ['thats not a proper thing to say']\n",
            "Decoded sentence:  eso no es solo una _UNK_ _END\n",
            "_END\n",
            "5\n",
            "-\n",
            "Input sentence: ['the fence needed painting']\n",
            "Decoded sentence:  la tienda se _UNK_ _END\n",
            "_END\n",
            "8\n",
            "-\n",
            "Input sentence: ['its not something anyone can do']\n",
            "Decoded sentence:  no hay nada que lo que _UNK_ _END\n",
            "_END\n",
            "5\n",
            "-\n",
            "Input sentence: ['tom sleeps all the time']\n",
            "Decoded sentence:  tom todos las horas _END\n",
            "_END\n",
            "8\n",
            "-\n",
            "Input sentence: ['im trying to help a friend']\n",
            "Decoded sentence:  estoy buscando a ayudar a un quiero _END\n",
            "_END\n",
            "5\n",
            "-\n",
            "Input sentence: ['i am tired of my work']\n",
            "Decoded sentence:  estoy cansado mi trabajo _END\n",
            "_END\n",
            "5\n",
            "-\n",
            "Input sentence: ['tom worked for mary']\n",
            "Decoded sentence:  tom _UNK_ a mary _END\n",
            "_END\n",
            "8\n",
            "-\n",
            "Input sentence: ['mary bought a fake gucci handbag']\n",
            "Decoded sentence:  mary compró una _UNK_ _UNK_ de dinero _END\n",
            "_END\n",
            "6\n",
            "-\n",
            "Input sentence: ['tom rejected the offer']\n",
            "Decoded sentence:  tom _UNK_ por la mano _END\n",
            "_END\n",
            "5\n",
            "-\n",
            "Input sentence: ['tom was with us']\n",
            "Decoded sentence:  tom estaba con nosotros _END\n",
            "_END\n",
            "5\n",
            "-\n",
            "Input sentence: ['would you like to be famous']\n",
            "Decoded sentence:  me gustaría ser _UNK_ _END\n",
            "_END\n",
            "5\n",
            "-\n",
            "Input sentence: ['i wasnt prepared for that']\n",
            "Decoded sentence:  no me _UNK_ eso _END\n",
            "_END\n",
            "8\n",
            "-\n",
            "Input sentence: ['in life there are ups and downs']\n",
            "Decoded sentence:  la vida no está solo y _UNK_ _END\n",
            "_END\n",
            "3\n",
            "-\n",
            "Input sentence: ['be brief']\n",
            "Decoded sentence:  sé _UNK_ _END\n",
            "_END\n",
            "6\n",
            "-\n",
            "Input sentence: ['dont underestimate your opponent']\n",
            "Decoded sentence:  no te _UNK_ tu _UNK_ _END\n",
            "_END\n",
            "4\n",
            "-\n",
            "Input sentence: ['someone screamed']\n",
            "Decoded sentence:  alguien se _UNK_ _END\n",
            "_END\n",
            "5\n",
            "-\n",
            "Input sentence: ['were not your enemies']\n",
            "Decoded sentence:  no son tus amigos _END\n",
            "_END\n",
            "9\n",
            "-\n",
            "Input sentence: ['the pencil case is on the table']\n",
            "Decoded sentence:  el deberías está el mesa en la mesa _END\n",
            "_END\n",
            "7\n",
            "-\n",
            "Input sentence: ['im not against outlawing guns']\n",
            "Decoded sentence:  no estoy _UNK_ a los niños _END\n",
            "_END\n",
            "4\n",
            "-\n",
            "Input sentence: ['let me explain']\n",
            "Decoded sentence:  déjame hacer algo _END\n",
            "_END\n",
            "5\n",
            "-\n",
            "Input sentence: ['i went through a lot of trouble']\n",
            "Decoded sentence:  he _UNK_ mucho dinero _END\n",
            "_END\n",
            "7\n",
            "-\n",
            "Input sentence: ['do you know anyone in australia']\n",
            "Decoded sentence:  sabes en alguien de la oficina _END\n",
            "_END\n",
            "6\n",
            "-\n",
            "Input sentence: ['are you going to school tomorrow']\n",
            "Decoded sentence:  vas a ir al colegio _END\n",
            "_END\n",
            "5\n",
            "-\n",
            "Input sentence: ['tom jogs every morning']\n",
            "Decoded sentence:  tom se _UNK_ mañana _END\n",
            "_END\n",
            "7\n",
            "-\n",
            "Input sentence: ['the cab arrived late']\n",
            "Decoded sentence:  el tren se _UNK_ de tom _END\n"
          ],
          "name": "stdout"
        }
      ]
    },
    {
      "cell_type": "code",
      "metadata": {
        "id": "rrRpvkei_0K6",
        "colab_type": "code",
        "colab": {}
      },
      "source": [
        ""
      ],
      "execution_count": 0,
      "outputs": []
    },
    {
      "cell_type": "code",
      "metadata": {
        "id": "39MbzVHO_0IQ",
        "colab_type": "code",
        "colab": {}
      },
      "source": [
        ""
      ],
      "execution_count": 0,
      "outputs": []
    },
    {
      "cell_type": "code",
      "metadata": {
        "id": "dWDRhldmAhEG",
        "colab_type": "code",
        "colab": {}
      },
      "source": [
        ""
      ],
      "execution_count": 0,
      "outputs": []
    },
    {
      "cell_type": "code",
      "metadata": {
        "id": "NsxCaEakAhA_",
        "colab_type": "code",
        "colab": {}
      },
      "source": [
        ""
      ],
      "execution_count": 0,
      "outputs": []
    },
    {
      "cell_type": "code",
      "metadata": {
        "id": "f5WalW1cw2T1",
        "colab_type": "code",
        "colab": {}
      },
      "source": [
        "answer_vec = ft.get_vector('dogs') - ft.get_vector('dog')"
      ],
      "execution_count": 0,
      "outputs": []
    },
    {
      "cell_type": "code",
      "metadata": {
        "id": "PxVtJCvezL_t",
        "colab_type": "code",
        "colab": {}
      },
      "source": [
        "answer_vec2 = ft.get_vector('cat') - ft.get_vector('cats')"
      ],
      "execution_count": 0,
      "outputs": []
    },
    {
      "cell_type": "code",
      "metadata": {
        "id": "bEVqrrV4zT47",
        "colab_type": "code",
        "outputId": "1db21ec5-c13a-4ce7-a648-42253de3617d",
        "colab": {
          "base_uri": "https://localhost:8080/",
          "height": 34
        }
      },
      "source": [
        "ft.cosine_similarities(answer_vec, [answer_vec2])"
      ],
      "execution_count": 0,
      "outputs": [
        {
          "output_type": "execute_result",
          "data": {
            "text/plain": [
              "array([-0.7573222], dtype=float32)"
            ]
          },
          "metadata": {
            "tags": []
          },
          "execution_count": 57
        }
      ]
    },
    {
      "cell_type": "code",
      "metadata": {
        "id": "bWqA4ToSxsOX",
        "colab_type": "code",
        "outputId": "a050cf89-fdea-47c1-e5a4-6e0dca44ee7a",
        "colab": {
          "base_uri": "https://localhost:8080/",
          "height": 88
        }
      },
      "source": [
        "ft.most_similar(positive=[answer_vec], topn=2)"
      ],
      "execution_count": 0,
      "outputs": [
        {
          "output_type": "stream",
          "text": [
            "/usr/local/lib/python3.6/dist-packages/gensim/matutils.py:737: FutureWarning: Conversion of the second argument of issubdtype from `int` to `np.signedinteger` is deprecated. In future, it will be treated as `np.int64 == np.dtype(int).type`.\n",
            "  if np.issubdtype(vec.dtype, np.int):\n"
          ],
          "name": "stderr"
        },
        {
          "output_type": "execute_result",
          "data": {
            "text/plain": [
              "[('OCCs', 0.2844681143760681), ('SPMs', 0.2560500204563141)]"
            ]
          },
          "metadata": {
            "tags": []
          },
          "execution_count": 52
        }
      ]
    },
    {
      "cell_type": "code",
      "metadata": {
        "id": "NRMdmTKKzPle",
        "colab_type": "code",
        "outputId": "5f56f981-d394-41eb-df82-3dc74111e550",
        "colab": {
          "base_uri": "https://localhost:8080/",
          "height": 88
        }
      },
      "source": [
        "ft.most_similar(positive=[answer_vec2], topn=2)"
      ],
      "execution_count": 0,
      "outputs": [
        {
          "output_type": "stream",
          "text": [
            "/usr/local/lib/python3.6/dist-packages/gensim/matutils.py:737: FutureWarning: Conversion of the second argument of issubdtype from `int` to `np.signedinteger` is deprecated. In future, it will be treated as `np.int64 == np.dtype(int).type`.\n",
            "  if np.issubdtype(vec.dtype, np.int):\n"
          ],
          "name": "stderr"
        },
        {
          "output_type": "execute_result",
          "data": {
            "text/plain": [
              "[('Units', 0.2607120871543884), ('busloads', 0.24602153897285461)]"
            ]
          },
          "metadata": {
            "tags": []
          },
          "execution_count": 54
        }
      ]
    }
  ]
}